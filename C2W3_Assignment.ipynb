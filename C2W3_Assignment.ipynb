{
  "cells": [
    {
      "cell_type": "markdown",
      "metadata": {
        "id": "view-in-github",
        "colab_type": "text"
      },
      "source": [
        "<a href=\"https://colab.research.google.com/github/qzdong2008/TensorFlow/blob/MyTensor/C2W3_Assignment.ipynb\" target=\"_parent\"><img src=\"https://colab.research.google.com/assets/colab-badge.svg\" alt=\"Open In Colab\"/></a>"
      ]
    },
    {
      "cell_type": "markdown",
      "metadata": {
        "id": "Fa7Tq7r485qO"
      },
      "source": [
        "# Horse or Human? In-graph training loop Assignment\n",
        "\n",
        "This assignment lets you practice how to train a Keras model on the [horses_or_humans](https://www.tensorflow.org/datasets/catalog/horses_or_humans) dataset with the entire training process performed in graph mode.  These steps include:\n",
        "- loading batches\n",
        "- calculating gradients\n",
        "- updating parameters\n",
        "- calculating validation accuracy\n",
        "- repeating the loop until convergence"
      ]
    },
    {
      "cell_type": "markdown",
      "metadata": {
        "id": "n4EKOpw9mObL"
      },
      "source": [
        "## Setup\n",
        "\n",
        "Import TensorFlow 2.0:"
      ]
    },
    {
      "cell_type": "code",
      "execution_count": 1,
      "metadata": {
        "id": "V9oECvVSI1Kj"
      },
      "outputs": [],
      "source": [
        "from __future__ import absolute_import, division, print_function, unicode_literals\n",
        "import numpy as np"
      ]
    },
    {
      "cell_type": "code",
      "execution_count": 2,
      "metadata": {
        "id": "mT7meGqrZTz9"
      },
      "outputs": [],
      "source": [
        "import tensorflow as tf\n",
        "import tensorflow_datasets as tfds\n",
        "import tensorflow_hub as hub\n",
        "import matplotlib.pyplot as plt"
      ]
    },
    {
      "cell_type": "markdown",
      "metadata": {
        "id": "Em5dzSUOtLRP"
      },
      "source": [
        "### Prepare the dataset\n",
        "\n",
        "Load the horses to human dataset, splitting 80% for the training set and 20% for the test set."
      ]
    },
    {
      "cell_type": "code",
      "execution_count": 3,
      "metadata": {
        "colab": {
          "base_uri": "https://localhost:8080/",
          "height": 249,
          "referenced_widgets": [
            "76e8ba1047c24f9a970ae7d6ded5b0b1",
            "b378bd50a9a243dc973c536f45915f54",
            "aa6cfe57f6ad4409bf4a02b9feab0a9a",
            "044f87a0a0ac4c5f8522e3e59a2986cf",
            "0b07a2e523204974a524174a6e60c80c",
            "185af52ae95249a887d18c9b09229e86",
            "801ededc1df14df9af9b91de8203d887",
            "7ee56f8fb4574e619362924f1f468ec6",
            "65bada55782745aa9520c9aeee817972",
            "62f662557b604f12a2b8d723a26cd216",
            "127c3884709e42159b1d34133aeff9f9",
            "cd0abe69c4d641d8aa2c685ff7c81aed",
            "64441fdcf0ba4d938001dada3d1d0e77",
            "5762ec41bb6e49a39165c7d1b0262098",
            "2ce74a0d64514950b40373d6fcaf03b5",
            "7b771d299ff74647b9567cded95d7253",
            "5add0838f3a14cedbbef924a061cd239",
            "b13121e9ec544815b7042353b98a1123",
            "60e1a6c5a5084c9582052465adcd60a6",
            "9a991e19e96847d9a11a2b74344e6516",
            "e949be8b592f488883bcab8b37215149",
            "3e4740ad22a04906bcfe8bcf183c742f",
            "577e95f1bbb34fc5a5b1c4a716a80756",
            "9bafd31462f9404ab835f019093b5a71",
            "7d675ebea3824070909cf2cb44de1dd0",
            "0cb830e7384948088eb5114216fd8987",
            "4bc9c76ac0674c2cbf321745fcbde087",
            "d6578ed8b2674ae89d11198220f15472",
            "83a52a8145d14cafa788ce3d36ac54e9",
            "8be886870baf4318bc3e9ed33ac21da9",
            "8fe88d5fa58c4001b64ecb67da882b00",
            "b96cd5db0c1e4f6694080998e47b2e13",
            "8c616770a7294d17a48b34a0dbcb5b16",
            "ba9b24b4d0974e82b34e0628c6abb208",
            "7598a026cca3481aaec874136bb8163a",
            "ba0872fa97dd48b79fc5d5184787d8c7",
            "699da6ca84084506882a4eba497d6d10",
            "d63577b8b79c4df9bb07f09f1bb30f64",
            "e759d662cc6a415791052af2ead3edd5",
            "2177c6a1522a474ca62e7797d9c01074",
            "20eb5b6a4a614098b63743905c353309",
            "bf5944b765864965bc21639340ac8b74",
            "7350f794634549d4b07644ffbe7b9e25",
            "1d7383e2c0c242f28c40cbe68ce3aa4e",
            "399041e1490f4c2993dc829ddfdc458d",
            "3f828661c0334b3e8a9673c89c194234",
            "4e42eb76547c420399726437a1259c24",
            "ef41e25bccea42199d3a3e3a85dd0829",
            "771e03461bc94ccbb75e1fb5b6f82d0e",
            "a44e78ee020a42af9d5afc48a9378fa5",
            "5a847e0f94654df4a57c6836e90fea3a",
            "387a18c1149141518014327f24be4c60",
            "3d08355c907a4f55a0a82050548b5f68",
            "aabc53b06d7b40a69270e9dcb23e7b7b",
            "ed058728e87e4a5bb3575aabb3eb8da2",
            "b3fbbb16d74d454ca6ffb375f8c8b173",
            "1a3edb6eb8cd4e948d5daebdd97420f1",
            "91e0afb97c2a457884cdb34be6e7cd8a",
            "0ef1473fa8124b038bb4584eab217a75",
            "fcd0a714c27b486e945ba453b106d726",
            "ad18550bd1974fdd9d890260d9f56c49",
            "809292b9e77d40da92d1c07a2d52c634",
            "621e9d1be0a74a149e84afc8f9d09a11",
            "e6e4301be13c417aa28d8c7ef7c482cf",
            "611f4565739a40258b030919a1c94db0",
            "ad2b3d0d49d7491f86747b8d112facfe"
          ]
        },
        "id": "1ZJsnN1b85qU",
        "outputId": "16887203-447d-4fc0-f6c1-977821fc2121"
      },
      "outputs": [
        {
          "output_type": "stream",
          "name": "stdout",
          "text": [
            "\u001b[1mDownloading and preparing dataset horses_or_humans/3.0.0 (download: 153.59 MiB, generated: Unknown size, total: 153.59 MiB) to ./data/horses_or_humans/3.0.0...\u001b[0m\n"
          ]
        },
        {
          "output_type": "display_data",
          "data": {
            "application/vnd.jupyter.widget-view+json": {
              "model_id": "76e8ba1047c24f9a970ae7d6ded5b0b1",
              "version_minor": 0,
              "version_major": 2
            },
            "text/plain": [
              "Dl Completed...: 0 url [00:00, ? url/s]"
            ]
          },
          "metadata": {}
        },
        {
          "output_type": "display_data",
          "data": {
            "application/vnd.jupyter.widget-view+json": {
              "model_id": "cd0abe69c4d641d8aa2c685ff7c81aed",
              "version_minor": 0,
              "version_major": 2
            },
            "text/plain": [
              "Dl Size...: 0 MiB [00:00, ? MiB/s]"
            ]
          },
          "metadata": {}
        },
        {
          "output_type": "stream",
          "name": "stdout",
          "text": [
            "\n",
            "\n"
          ]
        },
        {
          "output_type": "display_data",
          "data": {
            "application/vnd.jupyter.widget-view+json": {
              "model_id": "577e95f1bbb34fc5a5b1c4a716a80756",
              "version_minor": 0,
              "version_major": 2
            },
            "text/plain": [
              "0 examples [00:00, ? examples/s]"
            ]
          },
          "metadata": {}
        },
        {
          "output_type": "stream",
          "name": "stdout",
          "text": [
            "Shuffling and writing examples to ./data/horses_or_humans/3.0.0.incompleteMIYVYG/horses_or_humans-train.tfrecord\n"
          ]
        },
        {
          "output_type": "display_data",
          "data": {
            "application/vnd.jupyter.widget-view+json": {
              "model_id": "ba9b24b4d0974e82b34e0628c6abb208",
              "version_minor": 0,
              "version_major": 2
            },
            "text/plain": [
              "  0%|          | 0/1027 [00:00<?, ? examples/s]"
            ]
          },
          "metadata": {}
        },
        {
          "output_type": "display_data",
          "data": {
            "application/vnd.jupyter.widget-view+json": {
              "model_id": "399041e1490f4c2993dc829ddfdc458d",
              "version_minor": 0,
              "version_major": 2
            },
            "text/plain": [
              "0 examples [00:00, ? examples/s]"
            ]
          },
          "metadata": {}
        },
        {
          "output_type": "stream",
          "name": "stdout",
          "text": [
            "Shuffling and writing examples to ./data/horses_or_humans/3.0.0.incompleteMIYVYG/horses_or_humans-test.tfrecord\n"
          ]
        },
        {
          "output_type": "display_data",
          "data": {
            "application/vnd.jupyter.widget-view+json": {
              "model_id": "b3fbbb16d74d454ca6ffb375f8c8b173",
              "version_minor": 0,
              "version_major": 2
            },
            "text/plain": [
              "  0%|          | 0/256 [00:00<?, ? examples/s]"
            ]
          },
          "metadata": {}
        },
        {
          "output_type": "stream",
          "name": "stdout",
          "text": [
            "\u001b[1mDataset horses_or_humans downloaded and prepared to ./data/horses_or_humans/3.0.0. Subsequent calls will reuse this data.\u001b[0m\n"
          ]
        }
      ],
      "source": [
        "splits, info = tfds.load('horses_or_humans', as_supervised=True, with_info=True, split=['train[:80%]', 'train[80%:]', 'test'], data_dir='./data')\n",
        "\n",
        "(train_examples, validation_examples, test_examples) = splits\n",
        "\n",
        "num_examples = info.splits['train'].num_examples\n",
        "num_classes = info.features['label'].num_classes"
      ]
    },
    {
      "cell_type": "code",
      "execution_count": 4,
      "metadata": {
        "id": "cJdruxxGhBi5"
      },
      "outputs": [],
      "source": [
        "BATCH_SIZE = 32\n",
        "IMAGE_SIZE = 224"
      ]
    },
    {
      "cell_type": "markdown",
      "metadata": {
        "id": "yBnYOLqL85qV"
      },
      "source": [
        "## Pre-process an image (please complete this section)\n",
        "\n",
        "You'll define a mapping function that resizes the image to a height of 224 by 224, and normalizes the pixels to the range of 0 to 1.  Note that pixels range from 0 to 255.\n",
        "\n",
        "- You'll use the following function: [tf.image.resize](https://www.tensorflow.org/api_docs/python/tf/image/resize) and pass in the (height,width) as a tuple (or list).\n",
        "- To normalize, divide by a floating value so that the pixel range changes from [0,255] to [0,1]."
      ]
    },
    {
      "cell_type": "code",
      "execution_count": 5,
      "metadata": {
        "id": "qpQi4Jo9cFq0"
      },
      "outputs": [],
      "source": [
        "# Create a autograph pre-processing function to resize and normalize an image\n",
        "### START CODE HERE ###\n",
        "@tf.function\n",
        "def map_fn(img, label):\n",
        "    image_height = 224\n",
        "    image_width = 224\n",
        "### START CODE HERE ###\n",
        "    # resize the image\n",
        "    img = tf.image.resize(img,(image_height,image_width))\n",
        "    # normalize the image\n",
        "    img /= 255.0\n",
        "### END CODE HERE\n",
        "    return img, label"
      ]
    },
    {
      "cell_type": "code",
      "execution_count": 6,
      "metadata": {
        "colab": {
          "base_uri": "https://localhost:8080/"
        },
        "id": "MI5uRfLN85qX",
        "outputId": "cbcb3c13-0f5b-48c6-9896-40f266f16160"
      },
      "outputs": [
        {
          "output_type": "stream",
          "name": "stdout",
          "text": [
            "(224, 224, 3)\n",
            "()\n"
          ]
        }
      ],
      "source": [
        "## TEST CODE:\n",
        "\n",
        "test_image, test_label = list(train_examples)[0]\n",
        "\n",
        "test_result = map_fn(test_image, test_label)\n",
        "\n",
        "print(test_result[0].shape)\n",
        "print(test_result[1].shape)\n",
        "\n",
        "del test_image, test_label, test_result"
      ]
    },
    {
      "cell_type": "markdown",
      "metadata": {
        "id": "n3QZ2mFM85qY"
      },
      "source": [
        "**Expected Output:**\n",
        "\n",
        "```\n",
        "(224, 224, 3)\n",
        "()\n",
        "```"
      ]
    },
    {
      "cell_type": "markdown",
      "metadata": {
        "id": "3J_7DOuW85qY"
      },
      "source": [
        "## Apply pre-processing to the datasets (please complete this section)\n",
        "\n",
        "Apply the following steps to the training_examples:\n",
        "- Apply the `map_fn` to the training_examples\n",
        "- Shuffle the training data using `.shuffle(buffer_size=)` and set the buffer size to the number of examples.\n",
        "- Group these into batches using `.batch()` and set the batch size given by the parameter.\n",
        "\n",
        "Hint: You can look at how validation_examples and test_examples are pre-processed to get a sense of how to chain together multiple function calls."
      ]
    },
    {
      "cell_type": "code",
      "execution_count": 7,
      "metadata": {
        "id": "sv5bEYhaeUUO"
      },
      "outputs": [],
      "source": [
        "# Prepare train dataset by using preprocessing with map_fn, shuffling and batching\n",
        "def prepare_dataset(train_examples, validation_examples, test_examples, num_examples, map_fn, batch_size):\n",
        "    ### START CODE HERE ###\n",
        "    train_ds = train_examples.map(map_fn).shuffle(buffer_size=len(list(train_examples))).batch(batch_size)\n",
        "    ### END CODE HERE ###\n",
        "    valid_ds = validation_examples.map(map_fn).batch(batch_size)\n",
        "    test_ds = test_examples.map(map_fn).batch(batch_size)\n",
        "    \n",
        "    return train_ds, valid_ds, test_ds"
      ]
    },
    {
      "cell_type": "code",
      "execution_count": 8,
      "metadata": {
        "id": "xOeD4Auw85qZ"
      },
      "outputs": [],
      "source": [
        "train_ds, valid_ds, test_ds = prepare_dataset(train_examples, validation_examples, test_examples, num_examples, map_fn, BATCH_SIZE)"
      ]
    },
    {
      "cell_type": "code",
      "execution_count": 9,
      "metadata": {
        "colab": {
          "base_uri": "https://localhost:8080/"
        },
        "id": "a-1KF1T885qZ",
        "outputId": "89350f1c-09a8-4823-cfc3-c5d37d2b4ff4"
      },
      "outputs": [
        {
          "output_type": "stream",
          "name": "stdout",
          "text": [
            "26\n",
            "(32, 224, 224, 3)\n"
          ]
        }
      ],
      "source": [
        "## TEST CODE:\n",
        "\n",
        "test_train_ds = list(train_ds)\n",
        "print(len(test_train_ds))\n",
        "print(test_train_ds[0][0].shape)\n",
        "\n",
        "del test_train_ds"
      ]
    },
    {
      "cell_type": "markdown",
      "metadata": {
        "id": "uvlkB54-85qa"
      },
      "source": [
        "**Expected Output:**\n",
        "\n",
        "```\n",
        "26\n",
        "(32, 224, 224, 3)\n",
        "```"
      ]
    },
    {
      "cell_type": "markdown",
      "metadata": {
        "id": "znmy4l8ntMvW"
      },
      "source": [
        "### Define the model"
      ]
    },
    {
      "cell_type": "code",
      "execution_count": 12,
      "metadata": {
        "colab": {
          "base_uri": "https://localhost:8080/"
        },
        "id": "ltxyJVWTqNAO",
        "outputId": "cdfb88d7-54a3-42c9-f6cf-0f2fd90c1e13"
      },
      "outputs": [
        {
          "output_type": "stream",
          "name": "stdout",
          "text": [
            "Model: \"sequential\"\n",
            "_________________________________________________________________\n",
            " Layer (type)                Output Shape              Param #   \n",
            "=================================================================\n",
            " keras_layer (KerasLayer)    (None, 2048)              23561152  \n",
            "                                                                 \n",
            " dense (Dense)               (None, 2)                 4098      \n",
            "                                                                 \n",
            "=================================================================\n",
            "Total params: 23,565,250\n",
            "Trainable params: 4,098\n",
            "Non-trainable params: 23,561,152\n",
            "_________________________________________________________________\n"
          ]
        }
      ],
      "source": [
        "MODULE_HANDLE = 'data/resnet_50_feature_vector'\n",
        "model = tf.keras.Sequential([\n",
        "    hub.KerasLayer(MODULE_HANDLE, input_shape=(IMAGE_SIZE, IMAGE_SIZE, 3)),\n",
        "    tf.keras.layers.Dense(num_classes, activation='softmax')\n",
        "])\n",
        "model.summary()"
      ]
    },
    {
      "cell_type": "markdown",
      "metadata": {
        "id": "Ikb79EzkjpPk"
      },
      "source": [
        "## Define optimizer: (please complete these sections)\n",
        "Define the [Adam optimizer](https://www.tensorflow.org/api_docs/python/tf/keras/optimizers/Adam) that is in the tf.keras.optimizers module."
      ]
    },
    {
      "cell_type": "code",
      "execution_count": 13,
      "metadata": {
        "id": "uUhwD21k85qb"
      },
      "outputs": [],
      "source": [
        "def set_adam_optimizer():\n",
        "    ### START CODE HERE ###\n",
        "    # Define the adam optimizer\n",
        "    optimizer = tf.keras.optimizers.Adam()\n",
        "    ### END CODE HERE ###\n",
        "    return optimizer"
      ]
    },
    {
      "cell_type": "code",
      "execution_count": 14,
      "metadata": {
        "colab": {
          "base_uri": "https://localhost:8080/"
        },
        "id": "E1nFuHt585qb",
        "outputId": "4992c81e-38cf-4d97-ab56-dd97f3ce6afd"
      },
      "outputs": [
        {
          "output_type": "stream",
          "name": "stdout",
          "text": [
            "<class 'keras.optimizer_v2.adam.Adam'>\n"
          ]
        }
      ],
      "source": [
        "## TEST CODE:\n",
        "\n",
        "test_optimizer = set_adam_optimizer()\n",
        "\n",
        "print(type(test_optimizer))\n",
        "\n",
        "del test_optimizer"
      ]
    },
    {
      "cell_type": "markdown",
      "metadata": {
        "id": "6nXVu1KR85qb"
      },
      "source": [
        "**Expected Output:**\n",
        "```\n",
        "<class 'tensorflow.python.keras.optimizer_v2.adam.Adam'>\n",
        "```"
      ]
    },
    {
      "cell_type": "markdown",
      "metadata": {
        "id": "t47GS08u85qc"
      },
      "source": [
        "## Define the loss function (please complete this section)\n",
        "\n",
        "Define the loss function as the [sparse categorical cross entropy](https://www.tensorflow.org/api_docs/python/tf/keras/losses/SparseCategoricalCrossentropy) that's in the tf.keras.losses module.  Use the same function for both training and validation."
      ]
    },
    {
      "cell_type": "code",
      "execution_count": 15,
      "metadata": {
        "id": "XJvGJUp585qc"
      },
      "outputs": [],
      "source": [
        "def set_sparse_cat_crossentropy_loss():\n",
        "    ### START CODE HERE ###\n",
        "    # Define object oriented metric of Sparse categorical crossentropy for train and val loss\n",
        "    train_loss = tf.keras.losses.SparseCategoricalCrossentropy()\n",
        "    val_loss = tf.keras.losses.SparseCategoricalCrossentropy()\n",
        "    ### END CODE HERE ###\n",
        "    return train_loss, val_loss"
      ]
    },
    {
      "cell_type": "code",
      "execution_count": 16,
      "metadata": {
        "colab": {
          "base_uri": "https://localhost:8080/"
        },
        "id": "nsvsPf9785qc",
        "outputId": "ac76d236-9d89-482c-b211-12dbde0977ee"
      },
      "outputs": [
        {
          "output_type": "stream",
          "name": "stdout",
          "text": [
            "<class 'keras.losses.SparseCategoricalCrossentropy'>\n",
            "<class 'keras.losses.SparseCategoricalCrossentropy'>\n"
          ]
        }
      ],
      "source": [
        "## TEST CODE:\n",
        "\n",
        "test_train_loss, test_val_loss = set_sparse_cat_crossentropy_loss()\n",
        "\n",
        "print(type(test_train_loss))\n",
        "print(type(test_val_loss))\n",
        "\n",
        "del test_train_loss, test_val_loss"
      ]
    },
    {
      "cell_type": "markdown",
      "metadata": {
        "id": "uxV0Pv-n85qc"
      },
      "source": [
        "**Expected Output:**\n",
        "```\n",
        "<class 'tensorflow.python.keras.losses.SparseCategoricalCrossentropy'>\n",
        "<class 'tensorflow.python.keras.losses.SparseCategoricalCrossentropy'>\n",
        "```"
      ]
    },
    {
      "cell_type": "markdown",
      "metadata": {
        "id": "UoDeeVye85qd"
      },
      "source": [
        "## Define the acccuracy function (please complete this section)\n",
        "Define the accuracy function as the [spare categorical accuracy](https://www.tensorflow.org/api_docs/python/tf/keras/metrics/SparseCategoricalAccuracy) that's contained in the tf.keras.metrics module.   Use the same function for both training and validation."
      ]
    },
    {
      "cell_type": "code",
      "execution_count": 17,
      "metadata": {
        "id": "YukpzTG785qd"
      },
      "outputs": [],
      "source": [
        "def set_sparse_cat_crossentropy_accuracy():\n",
        "    ### START CODE HERE ###\n",
        "    # Define object oriented metric of Sparse categorical accuracy for train and val accuracy\n",
        "    train_accuracy = tf.keras.metrics.SparseCategoricalAccuracy()\n",
        "    val_accuracy = tf.keras.metrics.SparseCategoricalAccuracy()\n",
        "    ### END CODE HERE ###\n",
        "    return train_accuracy, val_accuracy"
      ]
    },
    {
      "cell_type": "code",
      "execution_count": 18,
      "metadata": {
        "colab": {
          "base_uri": "https://localhost:8080/"
        },
        "id": "RRxo9Hq585qd",
        "outputId": "7b5bdeb8-5320-46f3-8512-bb8143fbe50e"
      },
      "outputs": [
        {
          "output_type": "stream",
          "name": "stdout",
          "text": [
            "<class 'keras.metrics.SparseCategoricalAccuracy'>\n",
            "<class 'keras.metrics.SparseCategoricalAccuracy'>\n"
          ]
        }
      ],
      "source": [
        "## TEST CODE:\n",
        "\n",
        "test_train_accuracy, test_val_accuracy = set_sparse_cat_crossentropy_accuracy()\n",
        "\n",
        "print(type(test_train_accuracy))\n",
        "print(type(test_val_accuracy))\n",
        "\n",
        "del test_train_accuracy, test_val_accuracy"
      ]
    },
    {
      "cell_type": "markdown",
      "metadata": {
        "id": "TDT8prHb85qd"
      },
      "source": [
        "**Expected Output:**\n",
        "```\n",
        "<class 'tensorflow.python.keras.metrics.SparseCategoricalAccuracy'>\n",
        "<class 'tensorflow.python.keras.metrics.SparseCategoricalAccuracy'>\n",
        "```"
      ]
    },
    {
      "cell_type": "markdown",
      "metadata": {
        "id": "RxDh3f_E85qd"
      },
      "source": [
        "Call the three functions that you defined to set the optimizer, loss and accuracy"
      ]
    },
    {
      "cell_type": "code",
      "execution_count": 19,
      "metadata": {
        "id": "j92oDYGCjnBh"
      },
      "outputs": [],
      "source": [
        "optimizer = set_adam_optimizer()\n",
        "train_loss, val_loss = set_sparse_cat_crossentropy_loss()\n",
        "train_accuracy, val_accuracy = set_sparse_cat_crossentropy_accuracy()"
      ]
    },
    {
      "cell_type": "markdown",
      "metadata": {
        "id": "oeYV6mKnJGMr"
      },
      "source": [
        "### Define the training loop (please complete this section)\n",
        "\n",
        "In the training loop:\n",
        "- Get the model predictions: use the model, passing in the input `x`\n",
        "- Get the training loss: Call `train_loss`, passing in the true `y` and the predicted `y`.\n",
        "- Calculate the gradient of the loss with respect to the model's variables: use `tape.gradient` and pass in the loss and the model's `trainable_variables`.\n",
        "- Optimize the model variables using the gradients: call `optimizer.apply_gradients` and pass in a `zip()` of the two lists: the gradients and the model's `trainable_variables`.\n",
        "- Calculate accuracy: Call `train_accuracy`, passing in the true `y` and the predicted `y`."
      ]
    },
    {
      "cell_type": "code",
      "execution_count": 20,
      "metadata": {
        "id": "3xtg_MMhJETd"
      },
      "outputs": [],
      "source": [
        "# this code uses the GPU if available, otherwise uses a CPU\n",
        "device = '/gpu:0' if tf.config.list_physical_devices('GPU') else '/cpu:0'\n",
        "EPOCHS = 2\n",
        "\n",
        "# Custom training step\n",
        "def train_one_step(model, optimizer, x, y, train_loss, train_accuracy):\n",
        "    '''\n",
        "    Trains on a batch of images for one step.\n",
        "    \n",
        "    Args:\n",
        "        model (keras Model) -- image classifier\n",
        "        optimizer (keras Optimizer) -- optimizer to use during training\n",
        "        x (Tensor) -- training images\n",
        "        y (Tensor) -- training labels\n",
        "        train_loss (keras Loss) -- loss object for training\n",
        "        train_accuracy (keras Metric) -- accuracy metric for training\n",
        "    '''\n",
        "    with tf.GradientTape() as tape:\n",
        "    ### START CODE HERE ###\n",
        "        # Run the model on input x to get predictions\n",
        "        predictions = model(x)\n",
        "        # Compute the training loss using `train_loss`, passing in the true y and the predicted y\n",
        "        loss = train_loss(y, predictions)\n",
        "\n",
        "    # Using the tape and loss, compute the gradients on model variables using tape.gradient\n",
        "    grads = tape.gradient(loss, model.trainable_variables)\n",
        "    \n",
        "    # Zip the gradients and model variables, and then apply the result on the optimizer\n",
        "    optimizer.apply_gradients(zip(grads,model.trainable_variables))\n",
        "\n",
        "    # Call the train accuracy object on ground truth and predictions\n",
        "    train_accuracy(y,predictions)\n",
        "    ### END CODE HERE\n",
        "    return loss"
      ]
    },
    {
      "cell_type": "code",
      "execution_count": 21,
      "metadata": {
        "colab": {
          "base_uri": "https://localhost:8080/"
        },
        "id": "wW64PbTt85qe",
        "outputId": "90f21678-0c0a-45c8-942d-82eba9b90b46"
      },
      "outputs": [
        {
          "output_type": "stream",
          "name": "stdout",
          "text": [
            "tf.Tensor(0.6931472, shape=(), dtype=float32)\n"
          ]
        }
      ],
      "source": [
        "## TEST CODE:\n",
        "\n",
        "def base_model():\n",
        "    inputs = tf.keras.layers.Input(shape=(2))\n",
        "    x = tf.keras.layers.Dense(64, activation='relu')(inputs)\n",
        "    outputs = tf.keras.layers.Dense(1, activation='sigmoid')(x)\n",
        "    model = tf.keras.Model(inputs=inputs, outputs=outputs)\n",
        "    return model\n",
        "\n",
        "test_model = base_model()\n",
        "\n",
        "test_optimizer = set_adam_optimizer()\n",
        "test_image = tf.ones((2,2))\n",
        "test_label = tf.ones((1,))\n",
        "test_train_loss, _ = set_sparse_cat_crossentropy_loss()\n",
        "test_train_accuracy, _ = set_sparse_cat_crossentropy_accuracy()\n",
        "\n",
        "test_result = train_one_step(test_model, test_optimizer, test_image, test_label, test_train_loss, test_train_accuracy)\n",
        "print(test_result)\n",
        "\n",
        "del test_result, test_model, test_optimizer, test_image, test_label, test_train_loss, test_train_accuracy"
      ]
    },
    {
      "cell_type": "markdown",
      "metadata": {
        "id": "JegANgb_85qe"
      },
      "source": [
        "**Expected Output:**\n",
        "\n",
        "You will see a Tensor with the same shape and dtype. The value might be different.\n",
        "\n",
        "```\n",
        "tf.Tensor(0.6931472, shape=(), dtype=float32)\n",
        "```"
      ]
    },
    {
      "cell_type": "markdown",
      "metadata": {
        "id": "pyusyYfj85qf"
      },
      "source": [
        "## Define the 'train' function (please complete this section)\n",
        "\n",
        "You'll first loop through the training batches to train the model. (Please complete these sections)\n",
        "- The `train` function will use a for loop to iteratively call the `train_one_step` function that you just defined.\n",
        "- You'll use `tf.print` to print the step number, loss, and train_accuracy.result() at each step.  Remember to use tf.print when you plan to generate autograph code.\n",
        "\n",
        "Next, you'll loop through the batches of the validation set to calculation the validation loss and validation accuracy. (This code is provided for you).  At each iteration of the loop:\n",
        "- Use the model to predict on x, where x is the input from the validation set.\n",
        "- Use val_loss to calculate the validation loss between the true validation 'y' and predicted y.\n",
        "- Use val_accuracy to calculate the accuracy of the predicted y compared to the true y.\n",
        "\n",
        "Finally, you'll print the validation loss and accuracy using tf.print. (Please complete this section)\n",
        "- print the final `loss`, which is the validation loss calculated by the last loop through the validation dataset.\n",
        "- Also print the val_accuracy.result().\n",
        "\n",
        "**HINT**\n",
        "If you submit your assignment and see this error for your stderr output: \n",
        "```\n",
        "Cannot convert 1e-07 to EagerTensor of dtype int64\n",
        "```\n",
        "Please check your calls to train_accuracy and val_accuracy to make sure that you pass in the true and predicted values in the correct order (check the documentation to verify the order of parameters)."
      ]
    },
    {
      "cell_type": "code",
      "execution_count": 22,
      "metadata": {
        "id": "9jIs-BXS85qf"
      },
      "outputs": [],
      "source": [
        "# Decorate this function with tf.function to enable autograph on the training loop\n",
        "@tf.function\n",
        "def train(model, optimizer, epochs, device, train_ds, train_loss, train_accuracy, valid_ds, val_loss, val_accuracy):\n",
        "    '''\n",
        "    Performs the entire training loop. Prints the loss and accuracy per step and epoch.\n",
        "    \n",
        "    Args:\n",
        "        model (keras Model) -- image classifier\n",
        "        optimizer (keras Optimizer) -- optimizer to use during training\n",
        "        epochs (int) -- number of epochs\n",
        "        train_ds (tf Dataset) -- the train set containing image-label pairs\n",
        "        train_loss (keras Loss) -- loss function for training\n",
        "        train_accuracy (keras Metric) -- accuracy metric for training\n",
        "        valid_ds (Tensor) -- the val set containing image-label pairs\n",
        "        val_loss (keras Loss) -- loss object for validation\n",
        "        val_accuracy (keras Metric) -- accuracy metric for validation\n",
        "    '''\n",
        "    step = 0\n",
        "    loss = 0.0\n",
        "    for epoch in range(epochs):\n",
        "        for x, y in train_ds:\n",
        "            # training step number increments at each iteration\n",
        "            step += 1\n",
        "            with tf.device(device_name=device):\n",
        "                ### START CODE HERE ###\n",
        "                # Run one training step by passing appropriate model parameters\n",
        "                # required by the function and finally get the loss to report the results\n",
        "                loss = train_one_step(model, optimizer, x, y, train_loss, train_accuracy)\n",
        "                ### END CODE HERE ###\n",
        "            # Use tf.print to report your results.\n",
        "            # Print the training step number, loss and accuracy\n",
        "            tf.print('Step', step, \n",
        "                   ': train loss', loss, \n",
        "                   '; train accuracy', train_accuracy.result())\n",
        "\n",
        "        with tf.device(device_name=device):\n",
        "            for x, y in valid_ds:\n",
        "                # Call the model on the batches of inputs x and get the predictions\n",
        "                y_pred = model(x)\n",
        "                loss = val_loss(y, y_pred)\n",
        "                val_accuracy(y, y_pred)\n",
        "        \n",
        "        # Print the validation loss and accuracy\n",
        "        ### START CODE HERE ###\n",
        "        tf.print('val loss', loss, '; val accuracy', val_accuracy.result())\n",
        "        ### END CODE HERE ###"
      ]
    },
    {
      "cell_type": "markdown",
      "metadata": {
        "id": "VrtSzV4I85qf"
      },
      "source": [
        "Run the `train` function to train your model! You should see the loss generally decreasing and the accuracy increasing.\n",
        "\n",
        "**Note**: **Please let the training finish before submitting** and **do not** modify the next cell. It is required for grading. This will take around 5 minutes to run. "
      ]
    },
    {
      "cell_type": "code",
      "execution_count": 23,
      "metadata": {
        "colab": {
          "base_uri": "https://localhost:8080/"
        },
        "graded": true,
        "id": "6iDWgg977wb9",
        "name": "train",
        "outputId": "1a7f9a16-188d-46ac-df2f-136d88716a6b"
      },
      "outputs": [
        {
          "output_type": "stream",
          "name": "stdout",
          "text": [
            "Step 1 : train loss 1.76461315 ; train accuracy 0.375\n",
            "Step 2 : train loss 0.943488836 ; train accuracy 0.359375\n",
            "Step 3 : train loss 0.639311373 ; train accuracy 0.46875\n",
            "Step 4 : train loss 0.502126515 ; train accuracy 0.5234375\n",
            "Step 5 : train loss 0.532868385 ; train accuracy 0.575\n",
            "Step 6 : train loss 0.363583446 ; train accuracy 0.614583313\n",
            "Step 7 : train loss 0.281436741 ; train accuracy 0.65625\n",
            "Step 8 : train loss 0.187018037 ; train accuracy 0.6953125\n",
            "Step 9 : train loss 0.16861701 ; train accuracy 0.729166687\n",
            "Step 10 : train loss 0.122058675 ; train accuracy 0.75625\n",
            "Step 11 : train loss 0.1045826 ; train accuracy 0.778409064\n",
            "Step 12 : train loss 0.0903271437 ; train accuracy 0.794270813\n",
            "Step 13 : train loss 0.0778877512 ; train accuracy 0.810096145\n",
            "Step 14 : train loss 0.0390979648 ; train accuracy 0.823660731\n",
            "Step 15 : train loss 0.0433330536 ; train accuracy 0.835416675\n",
            "Step 16 : train loss 0.0407993868 ; train accuracy 0.845703125\n",
            "Step 17 : train loss 0.0193469487 ; train accuracy 0.854779422\n",
            "Step 18 : train loss 0.0283101592 ; train accuracy 0.862847209\n",
            "Step 19 : train loss 0.0200408883 ; train accuracy 0.870065808\n",
            "Step 20 : train loss 0.0196976922 ; train accuracy 0.876562476\n",
            "Step 21 : train loss 0.00796085224 ; train accuracy 0.882440448\n",
            "Step 22 : train loss 0.0123789571 ; train accuracy 0.887784064\n",
            "Step 23 : train loss 0.0143682631 ; train accuracy 0.892663062\n",
            "Step 24 : train loss 0.0155646512 ; train accuracy 0.897135437\n",
            "Step 25 : train loss 0.0388978 ; train accuracy 0.9\n",
            "Step 26 : train loss 0.00700025866 ; train accuracy 0.902676404\n",
            "val loss 0.00998188555 ; val accuracy 1\n",
            "Step 27 : train loss 0.0330074579 ; train accuracy 0.905152202\n",
            "Step 28 : train loss 0.00631799176 ; train accuracy 0.908577859\n",
            "Step 29 : train loss 0.00640958315 ; train accuracy 0.911764681\n",
            "Step 30 : train loss 0.00931606814 ; train accuracy 0.914736867\n",
            "Step 31 : train loss 0.0063676415 ; train accuracy 0.917515278\n",
            "Step 32 : train loss 0.00488706026 ; train accuracy 0.920118332\n",
            "Step 33 : train loss 0.00795315485 ; train accuracy 0.922562122\n",
            "Step 34 : train loss 0.00365131651 ; train accuracy 0.924860835\n",
            "Step 35 : train loss 0.00724674901 ; train accuracy 0.927027047\n",
            "Step 36 : train loss 0.0047626 ; train accuracy 0.929071784\n",
            "Step 37 : train loss 0.00778831635 ; train accuracy 0.93100512\n",
            "Step 38 : train loss 0.00392762572 ; train accuracy 0.932835817\n",
            "Step 39 : train loss 0.00346745783 ; train accuracy 0.934571862\n",
            "Step 40 : train loss 0.00365507 ; train accuracy 0.936220467\n",
            "Step 41 : train loss 0.111116812 ; train accuracy 0.937019944\n",
            "Step 42 : train loss 0.00443296693 ; train accuracy 0.938530743\n",
            "Step 43 : train loss 0.00527409 ; train accuracy 0.939970732\n",
            "Step 44 : train loss 0.00286499225 ; train accuracy 0.941344798\n",
            "Step 45 : train loss 0.00494064484 ; train accuracy 0.942657351\n",
            "Step 46 : train loss 0.00413454697 ; train accuracy 0.943912446\n",
            "Step 47 : train loss 0.00306455093 ; train accuracy 0.945113778\n",
            "Step 48 : train loss 0.00227218727 ; train accuracy 0.946264744\n",
            "Step 49 : train loss 0.00673894258 ; train accuracy 0.947368443\n",
            "Step 50 : train loss 0.00387965818 ; train accuracy 0.948427677\n",
            "Step 51 : train loss 0.00664569251 ; train accuracy 0.949445128\n",
            "Step 52 : train loss 0.00373504101 ; train accuracy 0.950121641\n",
            "val loss 0.00519960327 ; val accuracy 1\n"
          ]
        }
      ],
      "source": [
        "train(model, optimizer, EPOCHS, device, train_ds, train_loss, train_accuracy, valid_ds, val_loss, val_accuracy)"
      ]
    },
    {
      "cell_type": "markdown",
      "metadata": {
        "id": "N8m3iJgx7SV1"
      },
      "source": [
        "# Evaluation\n",
        "\n",
        "You can now see how your model performs on test images. First, let's load the test dataset and generate predictions:"
      ]
    },
    {
      "cell_type": "code",
      "execution_count": 24,
      "metadata": {
        "id": "HwFx4Nbh25p5"
      },
      "outputs": [],
      "source": [
        "test_imgs = []\n",
        "test_labels = []\n",
        "\n",
        "predictions = []\n",
        "with tf.device(device_name=device):\n",
        "    for images, labels in test_ds:\n",
        "        preds = model(images)\n",
        "        preds = preds.numpy()\n",
        "        predictions.extend(preds)\n",
        "\n",
        "        test_imgs.extend(images.numpy())\n",
        "        test_labels.extend(labels.numpy())"
      ]
    },
    {
      "cell_type": "markdown",
      "metadata": {
        "id": "7k_fr4ww85qg"
      },
      "source": [
        "Let's define a utility function for plotting an image and its prediction."
      ]
    },
    {
      "cell_type": "code",
      "execution_count": 25,
      "metadata": {
        "cellView": "form",
        "id": "IiutdErSpRH_"
      },
      "outputs": [],
      "source": [
        "# Utilities for plotting\n",
        "\n",
        "class_names = ['horse', 'human']\n",
        "\n",
        "def plot_image(i, predictions_array, true_label, img):\n",
        "    predictions_array, true_label, img = predictions_array[i], true_label[i], img[i]\n",
        "    plt.grid(False)\n",
        "    plt.xticks([])\n",
        "    plt.yticks([])\n",
        "\n",
        "    img = np.squeeze(img)\n",
        "\n",
        "    plt.imshow(img, cmap=plt.cm.binary)\n",
        "\n",
        "    predicted_label = np.argmax(predictions_array)\n",
        "    \n",
        "    # green-colored annotations will mark correct predictions. red otherwise.\n",
        "    if predicted_label == true_label:\n",
        "        color = 'green'\n",
        "    else:\n",
        "        color = 'red'\n",
        "    \n",
        "    # print the true label first\n",
        "    print(true_label)\n",
        "  \n",
        "    # show the image and overlay the prediction\n",
        "    plt.xlabel(\"{} {:2.0f}% ({})\".format(class_names[predicted_label],\n",
        "                                100*np.max(predictions_array),\n",
        "                                class_names[true_label]),\n",
        "                                color=color)\n",
        "\n"
      ]
    },
    {
      "cell_type": "markdown",
      "metadata": {
        "id": "omsZJWoD85qg"
      },
      "source": [
        "### Plot the result of a single image\n",
        "\n",
        "Choose an index and display the model's prediction for that image."
      ]
    },
    {
      "cell_type": "code",
      "execution_count": 26,
      "metadata": {
        "cellView": "form",
        "colab": {
          "base_uri": "https://localhost:8080/",
          "height": 214
        },
        "id": "aVknjW4A11uz",
        "outputId": "9746ade9-8a39-4abe-a2bf-2e69dc1a2648"
      },
      "outputs": [
        {
          "output_type": "stream",
          "name": "stdout",
          "text": [
            "0\n"
          ]
        },
        {
          "output_type": "display_data",
          "data": {
            "image/png": "[encoded data removed]",
            "text/plain": [
              "<Figure size 432x216 with 1 Axes>"
            ]
          },
          "metadata": {}
        }
      ],
      "source": [
        "# Visualize the outputs \n",
        "\n",
        "# you can modify the index value here from 0 to 255 to test different images\n",
        "index = 40\n",
        "plt.figure(figsize=(6,3))\n",
        "plt.subplot(1,2,1)\n",
        "plot_image(index, predictions, test_labels, test_imgs)\n",
        "plt.show()"
      ]
    },
    {
      "cell_type": "code",
      "execution_count": null,
      "metadata": {
        "id": "2mkAhNZl85qh"
      },
      "outputs": [],
      "source": [
        ""
      ]
    }
  ],
  "metadata": {
    "coursera": {
      "schema_names": [
        "TF3C2W3-1",
        "TF3C2W3-2",
        "TF3C2W3-3",
        "TF3C2W3-4",
        "TF3C2W3-5",
        "TF3C2W3-6",
        "TF3C2W3-7"
      ]
    },
    "jupytext": {
      "encoding": "# -*- coding: utf-8 -*-"
    },
    "kernelspec": {
      "display_name": "Python 3",
      "language": "python",
      "name": "python3"
    },
    "language_info": {
      "codemirror_mode": {
        "name": "ipython",
        "version": 3
      },
      "file_extension": ".py",
      "mimetype": "text/x-python",
      "name": "python",
      "nbconvert_exporter": "python",
      "pygments_lexer": "ipython3",
      "version": "3.7.6"
    },
    "colab": {
      "name": "C2W3_Assignment.ipynb",
      "provenance": [],
      "include_colab_link": true
    },
    "accelerator": "GPU",
    "widgets": {
      "application/vnd.jupyter.widget-state+json": {
        "76e8ba1047c24f9a970ae7d6ded5b0b1": {
          "model_module": "@jupyter-widgets/controls",
          "model_name": "HBoxModel",
          "model_module_version": "1.5.0",
          "state": {
            "_view_name": "HBoxView",
            "_dom_classes": [],
            "_model_name": "HBoxModel",
            "_view_module": "@jupyter-widgets/controls",
            "_model_module_version": "1.5.0",
            "_view_count": null,
            "_view_module_version": "1.5.0",
            "box_style": "",
            "layout": "IPY_MODEL_b378bd50a9a243dc973c536f45915f54",
            "_model_module": "@jupyter-widgets/controls",
            "children": [
              "IPY_MODEL_aa6cfe57f6ad4409bf4a02b9feab0a9a",
              "IPY_MODEL_044f87a0a0ac4c5f8522e3e59a2986cf",
              "IPY_MODEL_0b07a2e523204974a524174a6e60c80c"
            ]
          }
        },
        "b378bd50a9a243dc973c536f45915f54": {
          "model_module": "@jupyter-widgets/base",
          "model_name": "LayoutModel",
          "model_module_version": "1.2.0",
          "state": {
            "_view_name": "LayoutView",
            "grid_template_rows": null,
            "right": null,
            "justify_content": null,
            "_view_module": "@jupyter-widgets/base",
            "overflow": null,
            "_model_module_version": "1.2.0",
            "_view_count": null,
            "flex_flow": null,
            "width": null,
            "min_width": null,
            "border": null,
            "align_items": null,
            "bottom": null,
            "_model_module": "@jupyter-widgets/base",
            "top": null,
            "grid_column": null,
            "overflow_y": null,
            "overflow_x": null,
            "grid_auto_flow": null,
            "grid_area": null,
            "grid_template_columns": null,
            "flex": null,
            "_model_name": "LayoutModel",
            "justify_items": null,
            "grid_row": null,
            "max_height": null,
            "align_content": null,
            "visibility": null,
            "align_self": null,
            "height": null,
            "min_height": null,
            "padding": null,
            "grid_auto_rows": null,
            "grid_gap": null,
            "max_width": null,
            "order": null,
            "_view_module_version": "1.2.0",
            "grid_template_areas": null,
            "object_position": null,
            "object_fit": null,
            "grid_auto_columns": null,
            "margin": null,
            "display": null,
            "left": null
          }
        },
        "aa6cfe57f6ad4409bf4a02b9feab0a9a": {
          "model_module": "@jupyter-widgets/controls",
          "model_name": "HTMLModel",
          "model_module_version": "1.5.0",
          "state": {
            "_view_name": "HTMLView",
            "style": "IPY_MODEL_185af52ae95249a887d18c9b09229e86",
            "_dom_classes": [],
            "description": "",
            "_model_name": "HTMLModel",
            "placeholder": "​",
            "_view_module": "@jupyter-widgets/controls",
            "_model_module_version": "1.5.0",
            "value": "Dl Completed...: 100%",
            "_view_count": null,
            "_view_module_version": "1.5.0",
            "description_tooltip": null,
            "_model_module": "@jupyter-widgets/controls",
            "layout": "IPY_MODEL_801ededc1df14df9af9b91de8203d887"
          }
        },
        "044f87a0a0ac4c5f8522e3e59a2986cf": {
          "model_module": "@jupyter-widgets/controls",
          "model_name": "FloatProgressModel",
          "model_module_version": "1.5.0",
          "state": {
            "_view_name": "ProgressView",
            "style": "IPY_MODEL_7ee56f8fb4574e619362924f1f468ec6",
            "_dom_classes": [],
            "description": "",
            "_model_name": "FloatProgressModel",
            "bar_style": "success",
            "max": 1,
            "_view_module": "@jupyter-widgets/controls",
            "_model_module_version": "1.5.0",
            "value": 1,
            "_view_count": null,
            "_view_module_version": "1.5.0",
            "orientation": "horizontal",
            "min": 0,
            "description_tooltip": null,
            "_model_module": "@jupyter-widgets/controls",
            "layout": "IPY_MODEL_65bada55782745aa9520c9aeee817972"
          }
        },
        "0b07a2e523204974a524174a6e60c80c": {
          "model_module": "@jupyter-widgets/controls",
          "model_name": "HTMLModel",
          "model_module_version": "1.5.0",
          "state": {
            "_view_name": "HTMLView",
            "style": "IPY_MODEL_62f662557b604f12a2b8d723a26cd216",
            "_dom_classes": [],
            "description": "",
            "_model_name": "HTMLModel",
            "placeholder": "​",
            "_view_module": "@jupyter-widgets/controls",
            "_model_module_version": "1.5.0",
            "value": " 2/2 [00:02&lt;00:00,  1.34s/ url]",
            "_view_count": null,
            "_view_module_version": "1.5.0",
            "description_tooltip": null,
            "_model_module": "@jupyter-widgets/controls",
            "layout": "IPY_MODEL_127c3884709e42159b1d34133aeff9f9"
          }
        },
        "185af52ae95249a887d18c9b09229e86": {
          "model_module": "@jupyter-widgets/controls",
          "model_name": "DescriptionStyleModel",
          "model_module_version": "1.5.0",
          "state": {
            "_view_name": "StyleView",
            "_model_name": "DescriptionStyleModel",
            "description_width": "",
            "_view_module": "@jupyter-widgets/base",
            "_model_module_version": "1.5.0",
            "_view_count": null,
            "_view_module_version": "1.2.0",
            "_model_module": "@jupyter-widgets/controls"
          }
        },
        "801ededc1df14df9af9b91de8203d887": {
          "model_module": "@jupyter-widgets/base",
          "model_name": "LayoutModel",
          "model_module_version": "1.2.0",
          "state": {
            "_view_name": "LayoutView",
            "grid_template_rows": null,
            "right": null,
            "justify_content": null,
            "_view_module": "@jupyter-widgets/base",
            "overflow": null,
            "_model_module_version": "1.2.0",
            "_view_count": null,
            "flex_flow": null,
            "width": null,
            "min_width": null,
            "border": null,
            "align_items": null,
            "bottom": null,
            "_model_module": "@jupyter-widgets/base",
            "top": null,
            "grid_column": null,
            "overflow_y": null,
            "overflow_x": null,
            "grid_auto_flow": null,
            "grid_area": null,
            "grid_template_columns": null,
            "flex": null,
            "_model_name": "LayoutModel",
            "justify_items": null,
            "grid_row": null,
            "max_height": null,
            "align_content": null,
            "visibility": null,
            "align_self": null,
            "height": null,
            "min_height": null,
            "padding": null,
            "grid_auto_rows": null,
            "grid_gap": null,
            "max_width": null,
            "order": null,
            "_view_module_version": "1.2.0",
            "grid_template_areas": null,
            "object_position": null,
            "object_fit": null,
            "grid_auto_columns": null,
            "margin": null,
            "display": null,
            "left": null
          }
        },
        "7ee56f8fb4574e619362924f1f468ec6": {
          "model_module": "@jupyter-widgets/controls",
          "model_name": "ProgressStyleModel",
          "model_module_version": "1.5.0",
          "state": {
            "_view_name": "StyleView",
            "_model_name": "ProgressStyleModel",
            "description_width": "",
            "_view_module": "@jupyter-widgets/base",
            "_model_module_version": "1.5.0",
            "_view_count": null,
            "_view_module_version": "1.2.0",
            "bar_color": null,
            "_model_module": "@jupyter-widgets/controls"
          }
        },
        "65bada55782745aa9520c9aeee817972": {
          "model_module": "@jupyter-widgets/base",
          "model_name": "LayoutModel",
          "model_module_version": "1.2.0",
          "state": {
            "_view_name": "LayoutView",
            "grid_template_rows": null,
            "right": null,
            "justify_content": null,
            "_view_module": "@jupyter-widgets/base",
            "overflow": null,
            "_model_module_version": "1.2.0",
            "_view_count": null,
            "flex_flow": null,
            "width": "20px",
            "min_width": null,
            "border": null,
            "align_items": null,
            "bottom": null,
            "_model_module": "@jupyter-widgets/base",
            "top": null,
            "grid_column": null,
            "overflow_y": null,
            "overflow_x": null,
            "grid_auto_flow": null,
            "grid_area": null,
            "grid_template_columns": null,
            "flex": null,
            "_model_name": "LayoutModel",
            "justify_items": null,
            "grid_row": null,
            "max_height": null,
            "align_content": null,
            "visibility": null,
            "align_self": null,
            "height": null,
            "min_height": null,
            "padding": null,
            "grid_auto_rows": null,
            "grid_gap": null,
            "max_width": null,
            "order": null,
            "_view_module_version": "1.2.0",
            "grid_template_areas": null,
            "object_position": null,
            "object_fit": null,
            "grid_auto_columns": null,
            "margin": null,
            "display": null,
            "left": null
          }
        },
        "62f662557b604f12a2b8d723a26cd216": {
          "model_module": "@jupyter-widgets/controls",
          "model_name": "DescriptionStyleModel",
          "model_module_version": "1.5.0",
          "state": {
            "_view_name": "StyleView",
            "_model_name": "DescriptionStyleModel",
            "description_width": "",
            "_view_module": "@jupyter-widgets/base",
            "_model_module_version": "1.5.0",
            "_view_count": null,
            "_view_module_version": "1.2.0",
            "_model_module": "@jupyter-widgets/controls"
          }
        },
        "127c3884709e42159b1d34133aeff9f9": {
          "model_module": "@jupyter-widgets/base",
          "model_name": "LayoutModel",
          "model_module_version": "1.2.0",
          "state": {
            "_view_name": "LayoutView",
            "grid_template_rows": null,
            "right": null,
            "justify_content": null,
            "_view_module": "@jupyter-widgets/base",
            "overflow": null,
            "_model_module_version": "1.2.0",
            "_view_count": null,
            "flex_flow": null,
            "width": null,
            "min_width": null,
            "border": null,
            "align_items": null,
            "bottom": null,
            "_model_module": "@jupyter-widgets/base",
            "top": null,
            "grid_column": null,
            "overflow_y": null,
            "overflow_x": null,
            "grid_auto_flow": null,
            "grid_area": null,
            "grid_template_columns": null,
            "flex": null,
            "_model_name": "LayoutModel",
            "justify_items": null,
            "grid_row": null,
            "max_height": null,
            "align_content": null,
            "visibility": null,
            "align_self": null,
            "height": null,
            "min_height": null,
            "padding": null,
            "grid_auto_rows": null,
            "grid_gap": null,
            "max_width": null,
            "order": null,
            "_view_module_version": "1.2.0",
            "grid_template_areas": null,
            "object_position": null,
            "object_fit": null,
            "grid_auto_columns": null,
            "margin": null,
            "display": null,
            "left": null
          }
        },
        "cd0abe69c4d641d8aa2c685ff7c81aed": {
          "model_module": "@jupyter-widgets/controls",
          "model_name": "HBoxModel",
          "model_module_version": "1.5.0",
          "state": {
            "_view_name": "HBoxView",
            "_dom_classes": [],
            "_model_name": "HBoxModel",
            "_view_module": "@jupyter-widgets/controls",
            "_model_module_version": "1.5.0",
            "_view_count": null,
            "_view_module_version": "1.5.0",
            "box_style": "",
            "layout": "IPY_MODEL_64441fdcf0ba4d938001dada3d1d0e77",
            "_model_module": "@jupyter-widgets/controls",
            "children": [
              "IPY_MODEL_5762ec41bb6e49a39165c7d1b0262098",
              "IPY_MODEL_2ce74a0d64514950b40373d6fcaf03b5",
              "IPY_MODEL_7b771d299ff74647b9567cded95d7253"
            ]
          }
        },
        "64441fdcf0ba4d938001dada3d1d0e77": {
          "model_module": "@jupyter-widgets/base",
          "model_name": "LayoutModel",
          "model_module_version": "1.2.0",
          "state": {
            "_view_name": "LayoutView",
            "grid_template_rows": null,
            "right": null,
            "justify_content": null,
            "_view_module": "@jupyter-widgets/base",
            "overflow": null,
            "_model_module_version": "1.2.0",
            "_view_count": null,
            "flex_flow": null,
            "width": null,
            "min_width": null,
            "border": null,
            "align_items": null,
            "bottom": null,
            "_model_module": "@jupyter-widgets/base",
            "top": null,
            "grid_column": null,
            "overflow_y": null,
            "overflow_x": null,
            "grid_auto_flow": null,
            "grid_area": null,
            "grid_template_columns": null,
            "flex": null,
            "_model_name": "LayoutModel",
            "justify_items": null,
            "grid_row": null,
            "max_height": null,
            "align_content": null,
            "visibility": null,
            "align_self": null,
            "height": null,
            "min_height": null,
            "padding": null,
            "grid_auto_rows": null,
            "grid_gap": null,
            "max_width": null,
            "order": null,
            "_view_module_version": "1.2.0",
            "grid_template_areas": null,
            "object_position": null,
            "object_fit": null,
            "grid_auto_columns": null,
            "margin": null,
            "display": null,
            "left": null
          }
        },
        "5762ec41bb6e49a39165c7d1b0262098": {
          "model_module": "@jupyter-widgets/controls",
          "model_name": "HTMLModel",
          "model_module_version": "1.5.0",
          "state": {
            "_view_name": "HTMLView",
            "style": "IPY_MODEL_5add0838f3a14cedbbef924a061cd239",
            "_dom_classes": [],
            "description": "",
            "_model_name": "HTMLModel",
            "placeholder": "​",
            "_view_module": "@jupyter-widgets/controls",
            "_model_module_version": "1.5.0",
            "value": "Dl Size...: 100%",
            "_view_count": null,
            "_view_module_version": "1.5.0",
            "description_tooltip": null,
            "_model_module": "@jupyter-widgets/controls",
            "layout": "IPY_MODEL_b13121e9ec544815b7042353b98a1123"
          }
        },
        "2ce74a0d64514950b40373d6fcaf03b5": {
          "model_module": "@jupyter-widgets/controls",
          "model_name": "FloatProgressModel",
          "model_module_version": "1.5.0",
          "state": {
            "_view_name": "ProgressView",
            "style": "IPY_MODEL_60e1a6c5a5084c9582052465adcd60a6",
            "_dom_classes": [],
            "description": "",
            "_model_name": "FloatProgressModel",
            "bar_style": "success",
            "max": 1,
            "_view_module": "@jupyter-widgets/controls",
            "_model_module_version": "1.5.0",
            "value": 1,
            "_view_count": null,
            "_view_module_version": "1.5.0",
            "orientation": "horizontal",
            "min": 0,
            "description_tooltip": null,
            "_model_module": "@jupyter-widgets/controls",
            "layout": "IPY_MODEL_9a991e19e96847d9a11a2b74344e6516"
          }
        },
        "7b771d299ff74647b9567cded95d7253": {
          "model_module": "@jupyter-widgets/controls",
          "model_name": "HTMLModel",
          "model_module_version": "1.5.0",
          "state": {
            "_view_name": "HTMLView",
            "style": "IPY_MODEL_e949be8b592f488883bcab8b37215149",
            "_dom_classes": [],
            "description": "",
            "_model_name": "HTMLModel",
            "placeholder": "​",
            "_view_module": "@jupyter-widgets/controls",
            "_model_module_version": "1.5.0",
            "value": " 152/152 [00:02&lt;00:00, 70.02 MiB/s]",
            "_view_count": null,
            "_view_module_version": "1.5.0",
            "description_tooltip": null,
            "_model_module": "@jupyter-widgets/controls",
            "layout": "IPY_MODEL_3e4740ad22a04906bcfe8bcf183c742f"
          }
        },
        "5add0838f3a14cedbbef924a061cd239": {
          "model_module": "@jupyter-widgets/controls",
          "model_name": "DescriptionStyleModel",
          "model_module_version": "1.5.0",
          "state": {
            "_view_name": "StyleView",
            "_model_name": "DescriptionStyleModel",
            "description_width": "",
            "_view_module": "@jupyter-widgets/base",
            "_model_module_version": "1.5.0",
            "_view_count": null,
            "_view_module_version": "1.2.0",
            "_model_module": "@jupyter-widgets/controls"
          }
        },
        "b13121e9ec544815b7042353b98a1123": {
          "model_module": "@jupyter-widgets/base",
          "model_name": "LayoutModel",
          "model_module_version": "1.2.0",
          "state": {
            "_view_name": "LayoutView",
            "grid_template_rows": null,
            "right": null,
            "justify_content": null,
            "_view_module": "@jupyter-widgets/base",
            "overflow": null,
            "_model_module_version": "1.2.0",
            "_view_count": null,
            "flex_flow": null,
            "width": null,
            "min_width": null,
            "border": null,
            "align_items": null,
            "bottom": null,
            "_model_module": "@jupyter-widgets/base",
            "top": null,
            "grid_column": null,
            "overflow_y": null,
            "overflow_x": null,
            "grid_auto_flow": null,
            "grid_area": null,
            "grid_template_columns": null,
            "flex": null,
            "_model_name": "LayoutModel",
            "justify_items": null,
            "grid_row": null,
            "max_height": null,
            "align_content": null,
            "visibility": null,
            "align_self": null,
            "height": null,
            "min_height": null,
            "padding": null,
            "grid_auto_rows": null,
            "grid_gap": null,
            "max_width": null,
            "order": null,
            "_view_module_version": "1.2.0",
            "grid_template_areas": null,
            "object_position": null,
            "object_fit": null,
            "grid_auto_columns": null,
            "margin": null,
            "display": null,
            "left": null
          }
        },
        "60e1a6c5a5084c9582052465adcd60a6": {
          "model_module": "@jupyter-widgets/controls",
          "model_name": "ProgressStyleModel",
          "model_module_version": "1.5.0",
          "state": {
            "_view_name": "StyleView",
            "_model_name": "ProgressStyleModel",
            "description_width": "",
            "_view_module": "@jupyter-widgets/base",
            "_model_module_version": "1.5.0",
            "_view_count": null,
            "_view_module_version": "1.2.0",
            "bar_color": null,
            "_model_module": "@jupyter-widgets/controls"
          }
        },
        "9a991e19e96847d9a11a2b74344e6516": {
          "model_module": "@jupyter-widgets/base",
          "model_name": "LayoutModel",
          "model_module_version": "1.2.0",
          "state": {
            "_view_name": "LayoutView",
            "grid_template_rows": null,
            "right": null,
            "justify_content": null,
            "_view_module": "@jupyter-widgets/base",
            "overflow": null,
            "_model_module_version": "1.2.0",
            "_view_count": null,
            "flex_flow": null,
            "width": "20px",
            "min_width": null,
            "border": null,
            "align_items": null,
            "bottom": null,
            "_model_module": "@jupyter-widgets/base",
            "top": null,
            "grid_column": null,
            "overflow_y": null,
            "overflow_x": null,
            "grid_auto_flow": null,
            "grid_area": null,
            "grid_template_columns": null,
            "flex": null,
            "_model_name": "LayoutModel",
            "justify_items": null,
            "grid_row": null,
            "max_height": null,
            "align_content": null,
            "visibility": null,
            "align_self": null,
            "height": null,
            "min_height": null,
            "padding": null,
            "grid_auto_rows": null,
            "grid_gap": null,
            "max_width": null,
            "order": null,
            "_view_module_version": "1.2.0",
            "grid_template_areas": null,
            "object_position": null,
            "object_fit": null,
            "grid_auto_columns": null,
            "margin": null,
            "display": null,
            "left": null
          }
        },
        "e949be8b592f488883bcab8b37215149": {
          "model_module": "@jupyter-widgets/controls",
          "model_name": "DescriptionStyleModel",
          "model_module_version": "1.5.0",
          "state": {
            "_view_name": "StyleView",
            "_model_name": "DescriptionStyleModel",
            "description_width": "",
            "_view_module": "@jupyter-widgets/base",
            "_model_module_version": "1.5.0",
            "_view_count": null,
            "_view_module_version": "1.2.0",
            "_model_module": "@jupyter-widgets/controls"
          }
        },
        "3e4740ad22a04906bcfe8bcf183c742f": {
          "model_module": "@jupyter-widgets/base",
          "model_name": "LayoutModel",
          "model_module_version": "1.2.0",
          "state": {
            "_view_name": "LayoutView",
            "grid_template_rows": null,
            "right": null,
            "justify_content": null,
            "_view_module": "@jupyter-widgets/base",
            "overflow": null,
            "_model_module_version": "1.2.0",
            "_view_count": null,
            "flex_flow": null,
            "width": null,
            "min_width": null,
            "border": null,
            "align_items": null,
            "bottom": null,
            "_model_module": "@jupyter-widgets/base",
            "top": null,
            "grid_column": null,
            "overflow_y": null,
            "overflow_x": null,
            "grid_auto_flow": null,
            "grid_area": null,
            "grid_template_columns": null,
            "flex": null,
            "_model_name": "LayoutModel",
            "justify_items": null,
            "grid_row": null,
            "max_height": null,
            "align_content": null,
            "visibility": null,
            "align_self": null,
            "height": null,
            "min_height": null,
            "padding": null,
            "grid_auto_rows": null,
            "grid_gap": null,
            "max_width": null,
            "order": null,
            "_view_module_version": "1.2.0",
            "grid_template_areas": null,
            "object_position": null,
            "object_fit": null,
            "grid_auto_columns": null,
            "margin": null,
            "display": null,
            "left": null
          }
        },
        "577e95f1bbb34fc5a5b1c4a716a80756": {
          "model_module": "@jupyter-widgets/controls",
          "model_name": "HBoxModel",
          "model_module_version": "1.5.0",
          "state": {
            "_view_name": "HBoxView",
            "_dom_classes": [],
            "_model_name": "HBoxModel",
            "_view_module": "@jupyter-widgets/controls",
            "_model_module_version": "1.5.0",
            "_view_count": null,
            "_view_module_version": "1.5.0",
            "box_style": "",
            "layout": "IPY_MODEL_9bafd31462f9404ab835f019093b5a71",
            "_model_module": "@jupyter-widgets/controls",
            "children": [
              "IPY_MODEL_7d675ebea3824070909cf2cb44de1dd0",
              "IPY_MODEL_0cb830e7384948088eb5114216fd8987",
              "IPY_MODEL_4bc9c76ac0674c2cbf321745fcbde087"
            ]
          }
        },
        "9bafd31462f9404ab835f019093b5a71": {
          "model_module": "@jupyter-widgets/base",
          "model_name": "LayoutModel",
          "model_module_version": "1.2.0",
          "state": {
            "_view_name": "LayoutView",
            "grid_template_rows": null,
            "right": null,
            "justify_content": null,
            "_view_module": "@jupyter-widgets/base",
            "overflow": null,
            "_model_module_version": "1.2.0",
            "_view_count": null,
            "flex_flow": null,
            "width": null,
            "min_width": null,
            "border": null,
            "align_items": null,
            "bottom": null,
            "_model_module": "@jupyter-widgets/base",
            "top": null,
            "grid_column": null,
            "overflow_y": null,
            "overflow_x": null,
            "grid_auto_flow": null,
            "grid_area": null,
            "grid_template_columns": null,
            "flex": null,
            "_model_name": "LayoutModel",
            "justify_items": null,
            "grid_row": null,
            "max_height": null,
            "align_content": null,
            "visibility": null,
            "align_self": null,
            "height": null,
            "min_height": null,
            "padding": null,
            "grid_auto_rows": null,
            "grid_gap": null,
            "max_width": null,
            "order": null,
            "_view_module_version": "1.2.0",
            "grid_template_areas": null,
            "object_position": null,
            "object_fit": null,
            "grid_auto_columns": null,
            "margin": null,
            "display": null,
            "left": null
          }
        },
        "7d675ebea3824070909cf2cb44de1dd0": {
          "model_module": "@jupyter-widgets/controls",
          "model_name": "HTMLModel",
          "model_module_version": "1.5.0",
          "state": {
            "_view_name": "HTMLView",
            "style": "IPY_MODEL_d6578ed8b2674ae89d11198220f15472",
            "_dom_classes": [],
            "description": "",
            "_model_name": "HTMLModel",
            "placeholder": "​",
            "_view_module": "@jupyter-widgets/controls",
            "_model_module_version": "1.5.0",
            "value": "",
            "_view_count": null,
            "_view_module_version": "1.5.0",
            "description_tooltip": null,
            "_model_module": "@jupyter-widgets/controls",
            "layout": "IPY_MODEL_83a52a8145d14cafa788ce3d36ac54e9"
          }
        },
        "0cb830e7384948088eb5114216fd8987": {
          "model_module": "@jupyter-widgets/controls",
          "model_name": "FloatProgressModel",
          "model_module_version": "1.5.0",
          "state": {
            "_view_name": "ProgressView",
            "style": "IPY_MODEL_8be886870baf4318bc3e9ed33ac21da9",
            "_dom_classes": [],
            "description": "",
            "_model_name": "FloatProgressModel",
            "bar_style": "info",
            "max": 1,
            "_view_module": "@jupyter-widgets/controls",
            "_model_module_version": "1.5.0",
            "value": 1,
            "_view_count": null,
            "_view_module_version": "1.5.0",
            "orientation": "horizontal",
            "min": 0,
            "description_tooltip": null,
            "_model_module": "@jupyter-widgets/controls",
            "layout": "IPY_MODEL_8fe88d5fa58c4001b64ecb67da882b00"
          }
        },
        "4bc9c76ac0674c2cbf321745fcbde087": {
          "model_module": "@jupyter-widgets/controls",
          "model_name": "HTMLModel",
          "model_module_version": "1.5.0",
          "state": {
            "_view_name": "HTMLView",
            "style": "IPY_MODEL_b96cd5db0c1e4f6694080998e47b2e13",
            "_dom_classes": [],
            "description": "",
            "_model_name": "HTMLModel",
            "placeholder": "​",
            "_view_module": "@jupyter-widgets/controls",
            "_model_module_version": "1.5.0",
            "value": " 1015/0 [00:00&lt;00:00, 1552.75 examples/s]",
            "_view_count": null,
            "_view_module_version": "1.5.0",
            "description_tooltip": null,
            "_model_module": "@jupyter-widgets/controls",
            "layout": "IPY_MODEL_8c616770a7294d17a48b34a0dbcb5b16"
          }
        },
        "d6578ed8b2674ae89d11198220f15472": {
          "model_module": "@jupyter-widgets/controls",
          "model_name": "DescriptionStyleModel",
          "model_module_version": "1.5.0",
          "state": {
            "_view_name": "StyleView",
            "_model_name": "DescriptionStyleModel",
            "description_width": "",
            "_view_module": "@jupyter-widgets/base",
            "_model_module_version": "1.5.0",
            "_view_count": null,
            "_view_module_version": "1.2.0",
            "_model_module": "@jupyter-widgets/controls"
          }
        },
        "83a52a8145d14cafa788ce3d36ac54e9": {
          "model_module": "@jupyter-widgets/base",
          "model_name": "LayoutModel",
          "model_module_version": "1.2.0",
          "state": {
            "_view_name": "LayoutView",
            "grid_template_rows": null,
            "right": null,
            "justify_content": null,
            "_view_module": "@jupyter-widgets/base",
            "overflow": null,
            "_model_module_version": "1.2.0",
            "_view_count": null,
            "flex_flow": null,
            "width": null,
            "min_width": null,
            "border": null,
            "align_items": null,
            "bottom": null,
            "_model_module": "@jupyter-widgets/base",
            "top": null,
            "grid_column": null,
            "overflow_y": null,
            "overflow_x": null,
            "grid_auto_flow": null,
            "grid_area": null,
            "grid_template_columns": null,
            "flex": null,
            "_model_name": "LayoutModel",
            "justify_items": null,
            "grid_row": null,
            "max_height": null,
            "align_content": null,
            "visibility": null,
            "align_self": null,
            "height": null,
            "min_height": null,
            "padding": null,
            "grid_auto_rows": null,
            "grid_gap": null,
            "max_width": null,
            "order": null,
            "_view_module_version": "1.2.0",
            "grid_template_areas": null,
            "object_position": null,
            "object_fit": null,
            "grid_auto_columns": null,
            "margin": null,
            "display": null,
            "left": null
          }
        },
        "8be886870baf4318bc3e9ed33ac21da9": {
          "model_module": "@jupyter-widgets/controls",
          "model_name": "ProgressStyleModel",
          "model_module_version": "1.5.0",
          "state": {
            "_view_name": "StyleView",
            "_model_name": "ProgressStyleModel",
            "description_width": "",
            "_view_module": "@jupyter-widgets/base",
            "_model_module_version": "1.5.0",
            "_view_count": null,
            "_view_module_version": "1.2.0",
            "bar_color": null,
            "_model_module": "@jupyter-widgets/controls"
          }
        },
        "8fe88d5fa58c4001b64ecb67da882b00": {
          "model_module": "@jupyter-widgets/base",
          "model_name": "LayoutModel",
          "model_module_version": "1.2.0",
          "state": {
            "_view_name": "LayoutView",
            "grid_template_rows": null,
            "right": null,
            "justify_content": null,
            "_view_module": "@jupyter-widgets/base",
            "overflow": null,
            "_model_module_version": "1.2.0",
            "_view_count": null,
            "flex_flow": null,
            "width": "20px",
            "min_width": null,
            "border": null,
            "align_items": null,
            "bottom": null,
            "_model_module": "@jupyter-widgets/base",
            "top": null,
            "grid_column": null,
            "overflow_y": null,
            "overflow_x": null,
            "grid_auto_flow": null,
            "grid_area": null,
            "grid_template_columns": null,
            "flex": null,
            "_model_name": "LayoutModel",
            "justify_items": null,
            "grid_row": null,
            "max_height": null,
            "align_content": null,
            "visibility": null,
            "align_self": null,
            "height": null,
            "min_height": null,
            "padding": null,
            "grid_auto_rows": null,
            "grid_gap": null,
            "max_width": null,
            "order": null,
            "_view_module_version": "1.2.0",
            "grid_template_areas": null,
            "object_position": null,
            "object_fit": null,
            "grid_auto_columns": null,
            "margin": null,
            "display": null,
            "left": null
          }
        },
        "b96cd5db0c1e4f6694080998e47b2e13": {
          "model_module": "@jupyter-widgets/controls",
          "model_name": "DescriptionStyleModel",
          "model_module_version": "1.5.0",
          "state": {
            "_view_name": "StyleView",
            "_model_name": "DescriptionStyleModel",
            "description_width": "",
            "_view_module": "@jupyter-widgets/base",
            "_model_module_version": "1.5.0",
            "_view_count": null,
            "_view_module_version": "1.2.0",
            "_model_module": "@jupyter-widgets/controls"
          }
        },
        "8c616770a7294d17a48b34a0dbcb5b16": {
          "model_module": "@jupyter-widgets/base",
          "model_name": "LayoutModel",
          "model_module_version": "1.2.0",
          "state": {
            "_view_name": "LayoutView",
            "grid_template_rows": null,
            "right": null,
            "justify_content": null,
            "_view_module": "@jupyter-widgets/base",
            "overflow": null,
            "_model_module_version": "1.2.0",
            "_view_count": null,
            "flex_flow": null,
            "width": null,
            "min_width": null,
            "border": null,
            "align_items": null,
            "bottom": null,
            "_model_module": "@jupyter-widgets/base",
            "top": null,
            "grid_column": null,
            "overflow_y": null,
            "overflow_x": null,
            "grid_auto_flow": null,
            "grid_area": null,
            "grid_template_columns": null,
            "flex": null,
            "_model_name": "LayoutModel",
            "justify_items": null,
            "grid_row": null,
            "max_height": null,
            "align_content": null,
            "visibility": null,
            "align_self": null,
            "height": null,
            "min_height": null,
            "padding": null,
            "grid_auto_rows": null,
            "grid_gap": null,
            "max_width": null,
            "order": null,
            "_view_module_version": "1.2.0",
            "grid_template_areas": null,
            "object_position": null,
            "object_fit": null,
            "grid_auto_columns": null,
            "margin": null,
            "display": null,
            "left": null
          }
        },
        "ba9b24b4d0974e82b34e0628c6abb208": {
          "model_module": "@jupyter-widgets/controls",
          "model_name": "HBoxModel",
          "model_module_version": "1.5.0",
          "state": {
            "_view_name": "HBoxView",
            "_dom_classes": [],
            "_model_name": "HBoxModel",
            "_view_module": "@jupyter-widgets/controls",
            "_model_module_version": "1.5.0",
            "_view_count": null,
            "_view_module_version": "1.5.0",
            "box_style": "",
            "layout": "IPY_MODEL_7598a026cca3481aaec874136bb8163a",
            "_model_module": "@jupyter-widgets/controls",
            "children": [
              "IPY_MODEL_ba0872fa97dd48b79fc5d5184787d8c7",
              "IPY_MODEL_699da6ca84084506882a4eba497d6d10",
              "IPY_MODEL_d63577b8b79c4df9bb07f09f1bb30f64"
            ]
          }
        },
        "7598a026cca3481aaec874136bb8163a": {
          "model_module": "@jupyter-widgets/base",
          "model_name": "LayoutModel",
          "model_module_version": "1.2.0",
          "state": {
            "_view_name": "LayoutView",
            "grid_template_rows": null,
            "right": null,
            "justify_content": null,
            "_view_module": "@jupyter-widgets/base",
            "overflow": null,
            "_model_module_version": "1.2.0",
            "_view_count": null,
            "flex_flow": null,
            "width": null,
            "min_width": null,
            "border": null,
            "align_items": null,
            "bottom": null,
            "_model_module": "@jupyter-widgets/base",
            "top": null,
            "grid_column": null,
            "overflow_y": null,
            "overflow_x": null,
            "grid_auto_flow": null,
            "grid_area": null,
            "grid_template_columns": null,
            "flex": null,
            "_model_name": "LayoutModel",
            "justify_items": null,
            "grid_row": null,
            "max_height": null,
            "align_content": null,
            "visibility": null,
            "align_self": null,
            "height": null,
            "min_height": null,
            "padding": null,
            "grid_auto_rows": null,
            "grid_gap": null,
            "max_width": null,
            "order": null,
            "_view_module_version": "1.2.0",
            "grid_template_areas": null,
            "object_position": null,
            "object_fit": null,
            "grid_auto_columns": null,
            "margin": null,
            "display": null,
            "left": null
          }
        },
        "ba0872fa97dd48b79fc5d5184787d8c7": {
          "model_module": "@jupyter-widgets/controls",
          "model_name": "HTMLModel",
          "model_module_version": "1.5.0",
          "state": {
            "_view_name": "HTMLView",
            "style": "IPY_MODEL_e759d662cc6a415791052af2ead3edd5",
            "_dom_classes": [],
            "description": "",
            "_model_name": "HTMLModel",
            "placeholder": "​",
            "_view_module": "@jupyter-widgets/controls",
            "_model_module_version": "1.5.0",
            "value": "100%",
            "_view_count": null,
            "_view_module_version": "1.5.0",
            "description_tooltip": null,
            "_model_module": "@jupyter-widgets/controls",
            "layout": "IPY_MODEL_2177c6a1522a474ca62e7797d9c01074"
          }
        },
        "699da6ca84084506882a4eba497d6d10": {
          "model_module": "@jupyter-widgets/controls",
          "model_name": "FloatProgressModel",
          "model_module_version": "1.5.0",
          "state": {
            "_view_name": "ProgressView",
            "style": "IPY_MODEL_20eb5b6a4a614098b63743905c353309",
            "_dom_classes": [],
            "description": "",
            "_model_name": "FloatProgressModel",
            "bar_style": "danger",
            "max": 1027,
            "_view_module": "@jupyter-widgets/controls",
            "_model_module_version": "1.5.0",
            "value": 1026,
            "_view_count": null,
            "_view_module_version": "1.5.0",
            "orientation": "horizontal",
            "min": 0,
            "description_tooltip": null,
            "_model_module": "@jupyter-widgets/controls",
            "layout": "IPY_MODEL_bf5944b765864965bc21639340ac8b74"
          }
        },
        "d63577b8b79c4df9bb07f09f1bb30f64": {
          "model_module": "@jupyter-widgets/controls",
          "model_name": "HTMLModel",
          "model_module_version": "1.5.0",
          "state": {
            "_view_name": "HTMLView",
            "style": "IPY_MODEL_7350f794634549d4b07644ffbe7b9e25",
            "_dom_classes": [],
            "description": "",
            "_model_name": "HTMLModel",
            "placeholder": "​",
            "_view_module": "@jupyter-widgets/controls",
            "_model_module_version": "1.5.0",
            "value": " 1026/1027 [00:00&lt;00:00, 4157.03 examples/s]",
            "_view_count": null,
            "_view_module_version": "1.5.0",
            "description_tooltip": null,
            "_model_module": "@jupyter-widgets/controls",
            "layout": "IPY_MODEL_1d7383e2c0c242f28c40cbe68ce3aa4e"
          }
        },
        "e759d662cc6a415791052af2ead3edd5": {
          "model_module": "@jupyter-widgets/controls",
          "model_name": "DescriptionStyleModel",
          "model_module_version": "1.5.0",
          "state": {
            "_view_name": "StyleView",
            "_model_name": "DescriptionStyleModel",
            "description_width": "",
            "_view_module": "@jupyter-widgets/base",
            "_model_module_version": "1.5.0",
            "_view_count": null,
            "_view_module_version": "1.2.0",
            "_model_module": "@jupyter-widgets/controls"
          }
        },
        "2177c6a1522a474ca62e7797d9c01074": {
          "model_module": "@jupyter-widgets/base",
          "model_name": "LayoutModel",
          "model_module_version": "1.2.0",
          "state": {
            "_view_name": "LayoutView",
            "grid_template_rows": null,
            "right": null,
            "justify_content": null,
            "_view_module": "@jupyter-widgets/base",
            "overflow": null,
            "_model_module_version": "1.2.0",
            "_view_count": null,
            "flex_flow": null,
            "width": null,
            "min_width": null,
            "border": null,
            "align_items": null,
            "bottom": null,
            "_model_module": "@jupyter-widgets/base",
            "top": null,
            "grid_column": null,
            "overflow_y": null,
            "overflow_x": null,
            "grid_auto_flow": null,
            "grid_area": null,
            "grid_template_columns": null,
            "flex": null,
            "_model_name": "LayoutModel",
            "justify_items": null,
            "grid_row": null,
            "max_height": null,
            "align_content": null,
            "visibility": null,
            "align_self": null,
            "height": null,
            "min_height": null,
            "padding": null,
            "grid_auto_rows": null,
            "grid_gap": null,
            "max_width": null,
            "order": null,
            "_view_module_version": "1.2.0",
            "grid_template_areas": null,
            "object_position": null,
            "object_fit": null,
            "grid_auto_columns": null,
            "margin": null,
            "display": null,
            "left": null
          }
        },
        "20eb5b6a4a614098b63743905c353309": {
          "model_module": "@jupyter-widgets/controls",
          "model_name": "ProgressStyleModel",
          "model_module_version": "1.5.0",
          "state": {
            "_view_name": "StyleView",
            "_model_name": "ProgressStyleModel",
            "description_width": "",
            "_view_module": "@jupyter-widgets/base",
            "_model_module_version": "1.5.0",
            "_view_count": null,
            "_view_module_version": "1.2.0",
            "bar_color": null,
            "_model_module": "@jupyter-widgets/controls"
          }
        },
        "bf5944b765864965bc21639340ac8b74": {
          "model_module": "@jupyter-widgets/base",
          "model_name": "LayoutModel",
          "model_module_version": "1.2.0",
          "state": {
            "_view_name": "LayoutView",
            "grid_template_rows": null,
            "right": null,
            "justify_content": null,
            "_view_module": "@jupyter-widgets/base",
            "overflow": null,
            "_model_module_version": "1.2.0",
            "_view_count": null,
            "flex_flow": null,
            "width": null,
            "min_width": null,
            "border": null,
            "align_items": null,
            "bottom": null,
            "_model_module": "@jupyter-widgets/base",
            "top": null,
            "grid_column": null,
            "overflow_y": null,
            "overflow_x": null,
            "grid_auto_flow": null,
            "grid_area": null,
            "grid_template_columns": null,
            "flex": null,
            "_model_name": "LayoutModel",
            "justify_items": null,
            "grid_row": null,
            "max_height": null,
            "align_content": null,
            "visibility": null,
            "align_self": null,
            "height": null,
            "min_height": null,
            "padding": null,
            "grid_auto_rows": null,
            "grid_gap": null,
            "max_width": null,
            "order": null,
            "_view_module_version": "1.2.0",
            "grid_template_areas": null,
            "object_position": null,
            "object_fit": null,
            "grid_auto_columns": null,
            "margin": null,
            "display": null,
            "left": null
          }
        },
        "7350f794634549d4b07644ffbe7b9e25": {
          "model_module": "@jupyter-widgets/controls",
          "model_name": "DescriptionStyleModel",
          "model_module_version": "1.5.0",
          "state": {
            "_view_name": "StyleView",
            "_model_name": "DescriptionStyleModel",
            "description_width": "",
            "_view_module": "@jupyter-widgets/base",
            "_model_module_version": "1.5.0",
            "_view_count": null,
            "_view_module_version": "1.2.0",
            "_model_module": "@jupyter-widgets/controls"
          }
        },
        "1d7383e2c0c242f28c40cbe68ce3aa4e": {
          "model_module": "@jupyter-widgets/base",
          "model_name": "LayoutModel",
          "model_module_version": "1.2.0",
          "state": {
            "_view_name": "LayoutView",
            "grid_template_rows": null,
            "right": null,
            "justify_content": null,
            "_view_module": "@jupyter-widgets/base",
            "overflow": null,
            "_model_module_version": "1.2.0",
            "_view_count": null,
            "flex_flow": null,
            "width": null,
            "min_width": null,
            "border": null,
            "align_items": null,
            "bottom": null,
            "_model_module": "@jupyter-widgets/base",
            "top": null,
            "grid_column": null,
            "overflow_y": null,
            "overflow_x": null,
            "grid_auto_flow": null,
            "grid_area": null,
            "grid_template_columns": null,
            "flex": null,
            "_model_name": "LayoutModel",
            "justify_items": null,
            "grid_row": null,
            "max_height": null,
            "align_content": null,
            "visibility": null,
            "align_self": null,
            "height": null,
            "min_height": null,
            "padding": null,
            "grid_auto_rows": null,
            "grid_gap": null,
            "max_width": null,
            "order": null,
            "_view_module_version": "1.2.0",
            "grid_template_areas": null,
            "object_position": null,
            "object_fit": null,
            "grid_auto_columns": null,
            "margin": null,
            "display": null,
            "left": null
          }
        },
        "399041e1490f4c2993dc829ddfdc458d": {
          "model_module": "@jupyter-widgets/controls",
          "model_name": "HBoxModel",
          "model_module_version": "1.5.0",
          "state": {
            "_view_name": "HBoxView",
            "_dom_classes": [],
            "_model_name": "HBoxModel",
            "_view_module": "@jupyter-widgets/controls",
            "_model_module_version": "1.5.0",
            "_view_count": null,
            "_view_module_version": "1.5.0",
            "box_style": "",
            "layout": "IPY_MODEL_3f828661c0334b3e8a9673c89c194234",
            "_model_module": "@jupyter-widgets/controls",
            "children": [
              "IPY_MODEL_4e42eb76547c420399726437a1259c24",
              "IPY_MODEL_ef41e25bccea42199d3a3e3a85dd0829",
              "IPY_MODEL_771e03461bc94ccbb75e1fb5b6f82d0e"
            ]
          }
        },
        "3f828661c0334b3e8a9673c89c194234": {
          "model_module": "@jupyter-widgets/base",
          "model_name": "LayoutModel",
          "model_module_version": "1.2.0",
          "state": {
            "_view_name": "LayoutView",
            "grid_template_rows": null,
            "right": null,
            "justify_content": null,
            "_view_module": "@jupyter-widgets/base",
            "overflow": null,
            "_model_module_version": "1.2.0",
            "_view_count": null,
            "flex_flow": null,
            "width": null,
            "min_width": null,
            "border": null,
            "align_items": null,
            "bottom": null,
            "_model_module": "@jupyter-widgets/base",
            "top": null,
            "grid_column": null,
            "overflow_y": null,
            "overflow_x": null,
            "grid_auto_flow": null,
            "grid_area": null,
            "grid_template_columns": null,
            "flex": null,
            "_model_name": "LayoutModel",
            "justify_items": null,
            "grid_row": null,
            "max_height": null,
            "align_content": null,
            "visibility": null,
            "align_self": null,
            "height": null,
            "min_height": null,
            "padding": null,
            "grid_auto_rows": null,
            "grid_gap": null,
            "max_width": null,
            "order": null,
            "_view_module_version": "1.2.0",
            "grid_template_areas": null,
            "object_position": null,
            "object_fit": null,
            "grid_auto_columns": null,
            "margin": null,
            "display": null,
            "left": null
          }
        },
        "4e42eb76547c420399726437a1259c24": {
          "model_module": "@jupyter-widgets/controls",
          "model_name": "HTMLModel",
          "model_module_version": "1.5.0",
          "state": {
            "_view_name": "HTMLView",
            "style": "IPY_MODEL_a44e78ee020a42af9d5afc48a9378fa5",
            "_dom_classes": [],
            "description": "",
            "_model_name": "HTMLModel",
            "placeholder": "​",
            "_view_module": "@jupyter-widgets/controls",
            "_model_module_version": "1.5.0",
            "value": "",
            "_view_count": null,
            "_view_module_version": "1.5.0",
            "description_tooltip": null,
            "_model_module": "@jupyter-widgets/controls",
            "layout": "IPY_MODEL_5a847e0f94654df4a57c6836e90fea3a"
          }
        },
        "ef41e25bccea42199d3a3e3a85dd0829": {
          "model_module": "@jupyter-widgets/controls",
          "model_name": "FloatProgressModel",
          "model_module_version": "1.5.0",
          "state": {
            "_view_name": "ProgressView",
            "style": "IPY_MODEL_387a18c1149141518014327f24be4c60",
            "_dom_classes": [],
            "description": "",
            "_model_name": "FloatProgressModel",
            "bar_style": "info",
            "max": 1,
            "_view_module": "@jupyter-widgets/controls",
            "_model_module_version": "1.5.0",
            "value": 1,
            "_view_count": null,
            "_view_module_version": "1.5.0",
            "orientation": "horizontal",
            "min": 0,
            "description_tooltip": null,
            "_model_module": "@jupyter-widgets/controls",
            "layout": "IPY_MODEL_3d08355c907a4f55a0a82050548b5f68"
          }
        },
        "771e03461bc94ccbb75e1fb5b6f82d0e": {
          "model_module": "@jupyter-widgets/controls",
          "model_name": "HTMLModel",
          "model_module_version": "1.5.0",
          "state": {
            "_view_name": "HTMLView",
            "style": "IPY_MODEL_aabc53b06d7b40a69270e9dcb23e7b7b",
            "_dom_classes": [],
            "description": "",
            "_model_name": "HTMLModel",
            "placeholder": "​",
            "_view_module": "@jupyter-widgets/controls",
            "_model_module_version": "1.5.0",
            "value": " 221/0 [00:00&lt;00:00, 1172.26 examples/s]",
            "_view_count": null,
            "_view_module_version": "1.5.0",
            "description_tooltip": null,
            "_model_module": "@jupyter-widgets/controls",
            "layout": "IPY_MODEL_ed058728e87e4a5bb3575aabb3eb8da2"
          }
        },
        "a44e78ee020a42af9d5afc48a9378fa5": {
          "model_module": "@jupyter-widgets/controls",
          "model_name": "DescriptionStyleModel",
          "model_module_version": "1.5.0",
          "state": {
            "_view_name": "StyleView",
            "_model_name": "DescriptionStyleModel",
            "description_width": "",
            "_view_module": "@jupyter-widgets/base",
            "_model_module_version": "1.5.0",
            "_view_count": null,
            "_view_module_version": "1.2.0",
            "_model_module": "@jupyter-widgets/controls"
          }
        },
        "5a847e0f94654df4a57c6836e90fea3a": {
          "model_module": "@jupyter-widgets/base",
          "model_name": "LayoutModel",
          "model_module_version": "1.2.0",
          "state": {
            "_view_name": "LayoutView",
            "grid_template_rows": null,
            "right": null,
            "justify_content": null,
            "_view_module": "@jupyter-widgets/base",
            "overflow": null,
            "_model_module_version": "1.2.0",
            "_view_count": null,
            "flex_flow": null,
            "width": null,
            "min_width": null,
            "border": null,
            "align_items": null,
            "bottom": null,
            "_model_module": "@jupyter-widgets/base",
            "top": null,
            "grid_column": null,
            "overflow_y": null,
            "overflow_x": null,
            "grid_auto_flow": null,
            "grid_area": null,
            "grid_template_columns": null,
            "flex": null,
            "_model_name": "LayoutModel",
            "justify_items": null,
            "grid_row": null,
            "max_height": null,
            "align_content": null,
            "visibility": null,
            "align_self": null,
            "height": null,
            "min_height": null,
            "padding": null,
            "grid_auto_rows": null,
            "grid_gap": null,
            "max_width": null,
            "order": null,
            "_view_module_version": "1.2.0",
            "grid_template_areas": null,
            "object_position": null,
            "object_fit": null,
            "grid_auto_columns": null,
            "margin": null,
            "display": null,
            "left": null
          }
        },
        "387a18c1149141518014327f24be4c60": {
          "model_module": "@jupyter-widgets/controls",
          "model_name": "ProgressStyleModel",
          "model_module_version": "1.5.0",
          "state": {
            "_view_name": "StyleView",
            "_model_name": "ProgressStyleModel",
            "description_width": "",
            "_view_module": "@jupyter-widgets/base",
            "_model_module_version": "1.5.0",
            "_view_count": null,
            "_view_module_version": "1.2.0",
            "bar_color": null,
            "_model_module": "@jupyter-widgets/controls"
          }
        },
        "3d08355c907a4f55a0a82050548b5f68": {
          "model_module": "@jupyter-widgets/base",
          "model_name": "LayoutModel",
          "model_module_version": "1.2.0",
          "state": {
            "_view_name": "LayoutView",
            "grid_template_rows": null,
            "right": null,
            "justify_content": null,
            "_view_module": "@jupyter-widgets/base",
            "overflow": null,
            "_model_module_version": "1.2.0",
            "_view_count": null,
            "flex_flow": null,
            "width": "20px",
            "min_width": null,
            "border": null,
            "align_items": null,
            "bottom": null,
            "_model_module": "@jupyter-widgets/base",
            "top": null,
            "grid_column": null,
            "overflow_y": null,
            "overflow_x": null,
            "grid_auto_flow": null,
            "grid_area": null,
            "grid_template_columns": null,
            "flex": null,
            "_model_name": "LayoutModel",
            "justify_items": null,
            "grid_row": null,
            "max_height": null,
            "align_content": null,
            "visibility": null,
            "align_self": null,
            "height": null,
            "min_height": null,
            "padding": null,
            "grid_auto_rows": null,
            "grid_gap": null,
            "max_width": null,
            "order": null,
            "_view_module_version": "1.2.0",
            "grid_template_areas": null,
            "object_position": null,
            "object_fit": null,
            "grid_auto_columns": null,
            "margin": null,
            "display": null,
            "left": null
          }
        },
        "aabc53b06d7b40a69270e9dcb23e7b7b": {
          "model_module": "@jupyter-widgets/controls",
          "model_name": "DescriptionStyleModel",
          "model_module_version": "1.5.0",
          "state": {
            "_view_name": "StyleView",
            "_model_name": "DescriptionStyleModel",
            "description_width": "",
            "_view_module": "@jupyter-widgets/base",
            "_model_module_version": "1.5.0",
            "_view_count": null,
            "_view_module_version": "1.2.0",
            "_model_module": "@jupyter-widgets/controls"
          }
        },
        "ed058728e87e4a5bb3575aabb3eb8da2": {
          "model_module": "@jupyter-widgets/base",
          "model_name": "LayoutModel",
          "model_module_version": "1.2.0",
          "state": {
            "_view_name": "LayoutView",
            "grid_template_rows": null,
            "right": null,
            "justify_content": null,
            "_view_module": "@jupyter-widgets/base",
            "overflow": null,
            "_model_module_version": "1.2.0",
            "_view_count": null,
            "flex_flow": null,
            "width": null,
            "min_width": null,
            "border": null,
            "align_items": null,
            "bottom": null,
            "_model_module": "@jupyter-widgets/base",
            "top": null,
            "grid_column": null,
            "overflow_y": null,
            "overflow_x": null,
            "grid_auto_flow": null,
            "grid_area": null,
            "grid_template_columns": null,
            "flex": null,
            "_model_name": "LayoutModel",
            "justify_items": null,
            "grid_row": null,
            "max_height": null,
            "align_content": null,
            "visibility": null,
            "align_self": null,
            "height": null,
            "min_height": null,
            "padding": null,
            "grid_auto_rows": null,
            "grid_gap": null,
            "max_width": null,
            "order": null,
            "_view_module_version": "1.2.0",
            "grid_template_areas": null,
            "object_position": null,
            "object_fit": null,
            "grid_auto_columns": null,
            "margin": null,
            "display": null,
            "left": null
          }
        },
        "b3fbbb16d74d454ca6ffb375f8c8b173": {
          "model_module": "@jupyter-widgets/controls",
          "model_name": "HBoxModel",
          "model_module_version": "1.5.0",
          "state": {
            "_view_name": "HBoxView",
            "_dom_classes": [],
            "_model_name": "HBoxModel",
            "_view_module": "@jupyter-widgets/controls",
            "_model_module_version": "1.5.0",
            "_view_count": null,
            "_view_module_version": "1.5.0",
            "box_style": "",
            "layout": "IPY_MODEL_1a3edb6eb8cd4e948d5daebdd97420f1",
            "_model_module": "@jupyter-widgets/controls",
            "children": [
              "IPY_MODEL_91e0afb97c2a457884cdb34be6e7cd8a",
              "IPY_MODEL_0ef1473fa8124b038bb4584eab217a75",
              "IPY_MODEL_fcd0a714c27b486e945ba453b106d726"
            ]
          }
        },
        "1a3edb6eb8cd4e948d5daebdd97420f1": {
          "model_module": "@jupyter-widgets/base",
          "model_name": "LayoutModel",
          "model_module_version": "1.2.0",
          "state": {
            "_view_name": "LayoutView",
            "grid_template_rows": null,
            "right": null,
            "justify_content": null,
            "_view_module": "@jupyter-widgets/base",
            "overflow": null,
            "_model_module_version": "1.2.0",
            "_view_count": null,
            "flex_flow": null,
            "width": null,
            "min_width": null,
            "border": null,
            "align_items": null,
            "bottom": null,
            "_model_module": "@jupyter-widgets/base",
            "top": null,
            "grid_column": null,
            "overflow_y": null,
            "overflow_x": null,
            "grid_auto_flow": null,
            "grid_area": null,
            "grid_template_columns": null,
            "flex": null,
            "_model_name": "LayoutModel",
            "justify_items": null,
            "grid_row": null,
            "max_height": null,
            "align_content": null,
            "visibility": null,
            "align_self": null,
            "height": null,
            "min_height": null,
            "padding": null,
            "grid_auto_rows": null,
            "grid_gap": null,
            "max_width": null,
            "order": null,
            "_view_module_version": "1.2.0",
            "grid_template_areas": null,
            "object_position": null,
            "object_fit": null,
            "grid_auto_columns": null,
            "margin": null,
            "display": null,
            "left": null
          }
        },
        "91e0afb97c2a457884cdb34be6e7cd8a": {
          "model_module": "@jupyter-widgets/controls",
          "model_name": "HTMLModel",
          "model_module_version": "1.5.0",
          "state": {
            "_view_name": "HTMLView",
            "style": "IPY_MODEL_ad18550bd1974fdd9d890260d9f56c49",
            "_dom_classes": [],
            "description": "",
            "_model_name": "HTMLModel",
            "placeholder": "​",
            "_view_module": "@jupyter-widgets/controls",
            "_model_module_version": "1.5.0",
            "value": "100%",
            "_view_count": null,
            "_view_module_version": "1.5.0",
            "description_tooltip": null,
            "_model_module": "@jupyter-widgets/controls",
            "layout": "IPY_MODEL_809292b9e77d40da92d1c07a2d52c634"
          }
        },
        "0ef1473fa8124b038bb4584eab217a75": {
          "model_module": "@jupyter-widgets/controls",
          "model_name": "FloatProgressModel",
          "model_module_version": "1.5.0",
          "state": {
            "_view_name": "ProgressView",
            "style": "IPY_MODEL_621e9d1be0a74a149e84afc8f9d09a11",
            "_dom_classes": [],
            "description": "",
            "_model_name": "FloatProgressModel",
            "bar_style": "danger",
            "max": 256,
            "_view_module": "@jupyter-widgets/controls",
            "_model_module_version": "1.5.0",
            "value": 255,
            "_view_count": null,
            "_view_module_version": "1.5.0",
            "orientation": "horizontal",
            "min": 0,
            "description_tooltip": null,
            "_model_module": "@jupyter-widgets/controls",
            "layout": "IPY_MODEL_e6e4301be13c417aa28d8c7ef7c482cf"
          }
        },
        "fcd0a714c27b486e945ba453b106d726": {
          "model_module": "@jupyter-widgets/controls",
          "model_name": "HTMLModel",
          "model_module_version": "1.5.0",
          "state": {
            "_view_name": "HTMLView",
            "style": "IPY_MODEL_611f4565739a40258b030919a1c94db0",
            "_dom_classes": [],
            "description": "",
            "_model_name": "HTMLModel",
            "placeholder": "​",
            "_view_module": "@jupyter-widgets/controls",
            "_model_module_version": "1.5.0",
            "value": " 255/256 [00:00&lt;00:00, 5118.14 examples/s]",
            "_view_count": null,
            "_view_module_version": "1.5.0",
            "description_tooltip": null,
            "_model_module": "@jupyter-widgets/controls",
            "layout": "IPY_MODEL_ad2b3d0d49d7491f86747b8d112facfe"
          }
        },
        "ad18550bd1974fdd9d890260d9f56c49": {
          "model_module": "@jupyter-widgets/controls",
          "model_name": "DescriptionStyleModel",
          "model_module_version": "1.5.0",
          "state": {
            "_view_name": "StyleView",
            "_model_name": "DescriptionStyleModel",
            "description_width": "",
            "_view_module": "@jupyter-widgets/base",
            "_model_module_version": "1.5.0",
            "_view_count": null,
            "_view_module_version": "1.2.0",
            "_model_module": "@jupyter-widgets/controls"
          }
        },
        "809292b9e77d40da92d1c07a2d52c634": {
          "model_module": "@jupyter-widgets/base",
          "model_name": "LayoutModel",
          "model_module_version": "1.2.0",
          "state": {
            "_view_name": "LayoutView",
            "grid_template_rows": null,
            "right": null,
            "justify_content": null,
            "_view_module": "@jupyter-widgets/base",
            "overflow": null,
            "_model_module_version": "1.2.0",
            "_view_count": null,
            "flex_flow": null,
            "width": null,
            "min_width": null,
            "border": null,
            "align_items": null,
            "bottom": null,
            "_model_module": "@jupyter-widgets/base",
            "top": null,
            "grid_column": null,
            "overflow_y": null,
            "overflow_x": null,
            "grid_auto_flow": null,
            "grid_area": null,
            "grid_template_columns": null,
            "flex": null,
            "_model_name": "LayoutModel",
            "justify_items": null,
            "grid_row": null,
            "max_height": null,
            "align_content": null,
            "visibility": null,
            "align_self": null,
            "height": null,
            "min_height": null,
            "padding": null,
            "grid_auto_rows": null,
            "grid_gap": null,
            "max_width": null,
            "order": null,
            "_view_module_version": "1.2.0",
            "grid_template_areas": null,
            "object_position": null,
            "object_fit": null,
            "grid_auto_columns": null,
            "margin": null,
            "display": null,
            "left": null
          }
        },
        "621e9d1be0a74a149e84afc8f9d09a11": {
          "model_module": "@jupyter-widgets/controls",
          "model_name": "ProgressStyleModel",
          "model_module_version": "1.5.0",
          "state": {
            "_view_name": "StyleView",
            "_model_name": "ProgressStyleModel",
            "description_width": "",
            "_view_module": "@jupyter-widgets/base",
            "_model_module_version": "1.5.0",
            "_view_count": null,
            "_view_module_version": "1.2.0",
            "bar_color": null,
            "_model_module": "@jupyter-widgets/controls"
          }
        },
        "e6e4301be13c417aa28d8c7ef7c482cf": {
          "model_module": "@jupyter-widgets/base",
          "model_name": "LayoutModel",
          "model_module_version": "1.2.0",
          "state": {
            "_view_name": "LayoutView",
            "grid_template_rows": null,
            "right": null,
            "justify_content": null,
            "_view_module": "@jupyter-widgets/base",
            "overflow": null,
            "_model_module_version": "1.2.0",
            "_view_count": null,
            "flex_flow": null,
            "width": null,
            "min_width": null,
            "border": null,
            "align_items": null,
            "bottom": null,
            "_model_module": "@jupyter-widgets/base",
            "top": null,
            "grid_column": null,
            "overflow_y": null,
            "overflow_x": null,
            "grid_auto_flow": null,
            "grid_area": null,
            "grid_template_columns": null,
            "flex": null,
            "_model_name": "LayoutModel",
            "justify_items": null,
            "grid_row": null,
            "max_height": null,
            "align_content": null,
            "visibility": null,
            "align_self": null,
            "height": null,
            "min_height": null,
            "padding": null,
            "grid_auto_rows": null,
            "grid_gap": null,
            "max_width": null,
            "order": null,
            "_view_module_version": "1.2.0",
            "grid_template_areas": null,
            "object_position": null,
            "object_fit": null,
            "grid_auto_columns": null,
            "margin": null,
            "display": null,
            "left": null
          }
        },
        "611f4565739a40258b030919a1c94db0": {
          "model_module": "@jupyter-widgets/controls",
          "model_name": "DescriptionStyleModel",
          "model_module_version": "1.5.0",
          "state": {
            "_view_name": "StyleView",
            "_model_name": "DescriptionStyleModel",
            "description_width": "",
            "_view_module": "@jupyter-widgets/base",
            "_model_module_version": "1.5.0",
            "_view_count": null,
            "_view_module_version": "1.2.0",
            "_model_module": "@jupyter-widgets/controls"
          }
        },
        "ad2b3d0d49d7491f86747b8d112facfe": {
          "model_module": "@jupyter-widgets/base",
          "model_name": "LayoutModel",
          "model_module_version": "1.2.0",
          "state": {
            "_view_name": "LayoutView",
            "grid_template_rows": null,
            "right": null,
            "justify_content": null,
            "_view_module": "@jupyter-widgets/base",
            "overflow": null,
            "_model_module_version": "1.2.0",
            "_view_count": null,
            "flex_flow": null,
            "width": null,
            "min_width": null,
            "border": null,
            "align_items": null,
            "bottom": null,
            "_model_module": "@jupyter-widgets/base",
            "top": null,
            "grid_column": null,
            "overflow_y": null,
            "overflow_x": null,
            "grid_auto_flow": null,
            "grid_area": null,
            "grid_template_columns": null,
            "flex": null,
            "_model_name": "LayoutModel",
            "justify_items": null,
            "grid_row": null,
            "max_height": null,
            "align_content": null,
            "visibility": null,
            "align_self": null,
            "height": null,
            "min_height": null,
            "padding": null,
            "grid_auto_rows": null,
            "grid_gap": null,
            "max_width": null,
            "order": null,
            "_view_module_version": "1.2.0",
            "grid_template_areas": null,
            "object_position": null,
            "object_fit": null,
            "grid_auto_columns": null,
            "margin": null,
            "display": null,
            "left": null
          }
        }
      }
    }
  },
  "nbformat": 4,
  "nbformat_minor": 0
}